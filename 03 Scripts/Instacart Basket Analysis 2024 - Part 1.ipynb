{
 "cells": [
  {
   "cell_type": "markdown",
   "id": "25d18283-8e4c-4349-9bcb-157ba22dc449",
   "metadata": {},
   "source": [
    "# **Instacart Basket Analysis 2024 - Part 1**"
   ]
  },
  {
   "cell_type": "markdown",
   "id": "5a7b1065-93b9-46f1-a704-53104c94f5f3",
   "metadata": {},
   "source": [
    "## **This Script Contains the Following Points:**\n",
    "#### 1. Importing Libraries & Data\n",
    "#### 2. Security Implications\n",
    "#### 3. Regional Segmentation of Data\n",
    "#### 4. Exclusion of Low-Activity Customers\n",
    "#### 5. Customer Profiling by Age\n",
    "#### 6. Customer Profiling by Income\n",
    "#### 7. Customer Profiling by Dependants\n",
    "#### 8. Match Department_id with Appropriate Department Name\n",
    "#### 9. Customer Profiling Based on Departments\n",
    "#### 10. Customer Profile Level Aggregations for Usage Frequency and Expenditure\n",
    "#### 11. Customer Comparisons\n",
    "#### 12. Export Dataset"
   ]
  },
  {
   "cell_type": "markdown",
   "id": "e8b80a0f-16ba-4d95-a61c-6c6ac669340a",
   "metadata": {},
   "source": [
    "### 1. Importing Libraries & Data"
   ]
  },
  {
   "cell_type": "code",
   "execution_count": 6,
   "id": "938cfae0-e33e-4212-b5d6-eaf78ff962fd",
   "metadata": {},
   "outputs": [],
   "source": [
    "#import libraries \n",
    "import pandas as pd\n",
    "import numpy as np\n",
    "import os\n",
    "import matplotlib.pyplot as plt\n",
    "import seaborn as sns\n",
    "import scipy"
   ]
  },
  {
   "cell_type": "code",
   "execution_count": 7,
   "id": "9bce3f77-25ec-4f68-8f9a-a0d8e327edcf",
   "metadata": {},
   "outputs": [],
   "source": [
    "#create folder path to Instacart dataset\n",
    "path = r'/Users/kimkmiz/Documents/Instacart Basket Analysis 2024'"
   ]
  },
  {
   "cell_type": "code",
   "execution_count": 8,
   "id": "9d60b7a2-425e-4049-886f-606dd51b886e",
   "metadata": {},
   "outputs": [],
   "source": [
    "#importing Instacart dataset\n",
    "df = pd.read_pickle(os.path.join(path, '02 Data', 'IC24 Prepared Data', 'instacart_combined.pkl'))"
   ]
  },
  {
   "cell_type": "code",
   "execution_count": 9,
   "id": "45492f9e-d0c9-4899-8d15-382626c9c1f0",
   "metadata": {},
   "outputs": [
    {
     "data": {
      "text/html": [
       "<div>\n",
       "<style scoped>\n",
       "    .dataframe tbody tr th:only-of-type {\n",
       "        vertical-align: middle;\n",
       "    }\n",
       "\n",
       "    .dataframe tbody tr th {\n",
       "        vertical-align: top;\n",
       "    }\n",
       "\n",
       "    .dataframe thead th {\n",
       "        text-align: right;\n",
       "    }\n",
       "</style>\n",
       "<table border=\"1\" class=\"dataframe\">\n",
       "  <thead>\n",
       "    <tr style=\"text-align: right;\">\n",
       "      <th></th>\n",
       "      <th>user_id</th>\n",
       "      <th>First Name</th>\n",
       "      <th>Surnam</th>\n",
       "      <th>Gender</th>\n",
       "      <th>STATE</th>\n",
       "      <th>Age</th>\n",
       "      <th>date_joined</th>\n",
       "      <th>number_of_dependants</th>\n",
       "      <th>marital_status</th>\n",
       "      <th>income</th>\n",
       "      <th>...</th>\n",
       "      <th>reordered</th>\n",
       "      <th>price_range_loc</th>\n",
       "      <th>busiest_days</th>\n",
       "      <th>busiest_period_of_day</th>\n",
       "      <th>max_order</th>\n",
       "      <th>loyalty_flag</th>\n",
       "      <th>mean_product_price</th>\n",
       "      <th>spending_flag</th>\n",
       "      <th>median_days_between_orders</th>\n",
       "      <th>order_frequency</th>\n",
       "    </tr>\n",
       "  </thead>\n",
       "  <tbody>\n",
       "    <tr>\n",
       "      <th>0</th>\n",
       "      <td>26711</td>\n",
       "      <td>Deborah</td>\n",
       "      <td>Esquivel</td>\n",
       "      <td>Female</td>\n",
       "      <td>Missouri</td>\n",
       "      <td>48</td>\n",
       "      <td>1/1/2017</td>\n",
       "      <td>3</td>\n",
       "      <td>married</td>\n",
       "      <td>165665</td>\n",
       "      <td>...</td>\n",
       "      <td>0</td>\n",
       "      <td>Mid-range product</td>\n",
       "      <td>Busiest days</td>\n",
       "      <td>Most orders</td>\n",
       "      <td>8</td>\n",
       "      <td>New customer</td>\n",
       "      <td>7.988889</td>\n",
       "      <td>Low spender</td>\n",
       "      <td>19.0</td>\n",
       "      <td>Regular customer</td>\n",
       "    </tr>\n",
       "    <tr>\n",
       "      <th>1</th>\n",
       "      <td>26711</td>\n",
       "      <td>Deborah</td>\n",
       "      <td>Esquivel</td>\n",
       "      <td>Female</td>\n",
       "      <td>Missouri</td>\n",
       "      <td>48</td>\n",
       "      <td>1/1/2017</td>\n",
       "      <td>3</td>\n",
       "      <td>married</td>\n",
       "      <td>165665</td>\n",
       "      <td>...</td>\n",
       "      <td>1</td>\n",
       "      <td>Mid-range product</td>\n",
       "      <td>Regularly busy</td>\n",
       "      <td>Most orders</td>\n",
       "      <td>8</td>\n",
       "      <td>New customer</td>\n",
       "      <td>7.988889</td>\n",
       "      <td>Low spender</td>\n",
       "      <td>19.0</td>\n",
       "      <td>Regular customer</td>\n",
       "    </tr>\n",
       "    <tr>\n",
       "      <th>2</th>\n",
       "      <td>26711</td>\n",
       "      <td>Deborah</td>\n",
       "      <td>Esquivel</td>\n",
       "      <td>Female</td>\n",
       "      <td>Missouri</td>\n",
       "      <td>48</td>\n",
       "      <td>1/1/2017</td>\n",
       "      <td>3</td>\n",
       "      <td>married</td>\n",
       "      <td>165665</td>\n",
       "      <td>...</td>\n",
       "      <td>1</td>\n",
       "      <td>Mid-range product</td>\n",
       "      <td>Busiest days</td>\n",
       "      <td>Most orders</td>\n",
       "      <td>8</td>\n",
       "      <td>New customer</td>\n",
       "      <td>7.988889</td>\n",
       "      <td>Low spender</td>\n",
       "      <td>19.0</td>\n",
       "      <td>Regular customer</td>\n",
       "    </tr>\n",
       "    <tr>\n",
       "      <th>3</th>\n",
       "      <td>26711</td>\n",
       "      <td>Deborah</td>\n",
       "      <td>Esquivel</td>\n",
       "      <td>Female</td>\n",
       "      <td>Missouri</td>\n",
       "      <td>48</td>\n",
       "      <td>1/1/2017</td>\n",
       "      <td>3</td>\n",
       "      <td>married</td>\n",
       "      <td>165665</td>\n",
       "      <td>...</td>\n",
       "      <td>0</td>\n",
       "      <td>Low-range product</td>\n",
       "      <td>Regularly busy</td>\n",
       "      <td>Most orders</td>\n",
       "      <td>8</td>\n",
       "      <td>New customer</td>\n",
       "      <td>7.988889</td>\n",
       "      <td>Low spender</td>\n",
       "      <td>19.0</td>\n",
       "      <td>Regular customer</td>\n",
       "    </tr>\n",
       "    <tr>\n",
       "      <th>4</th>\n",
       "      <td>26711</td>\n",
       "      <td>Deborah</td>\n",
       "      <td>Esquivel</td>\n",
       "      <td>Female</td>\n",
       "      <td>Missouri</td>\n",
       "      <td>48</td>\n",
       "      <td>1/1/2017</td>\n",
       "      <td>3</td>\n",
       "      <td>married</td>\n",
       "      <td>165665</td>\n",
       "      <td>...</td>\n",
       "      <td>1</td>\n",
       "      <td>Low-range product</td>\n",
       "      <td>Slowest days</td>\n",
       "      <td>Most orders</td>\n",
       "      <td>8</td>\n",
       "      <td>New customer</td>\n",
       "      <td>7.988889</td>\n",
       "      <td>Low spender</td>\n",
       "      <td>19.0</td>\n",
       "      <td>Regular customer</td>\n",
       "    </tr>\n",
       "  </tbody>\n",
       "</table>\n",
       "<p>5 rows × 31 columns</p>\n",
       "</div>"
      ],
      "text/plain": [
       "   user_id First Name    Surnam  Gender     STATE  Age date_joined  \\\n",
       "0    26711    Deborah  Esquivel  Female  Missouri   48    1/1/2017   \n",
       "1    26711    Deborah  Esquivel  Female  Missouri   48    1/1/2017   \n",
       "2    26711    Deborah  Esquivel  Female  Missouri   48    1/1/2017   \n",
       "3    26711    Deborah  Esquivel  Female  Missouri   48    1/1/2017   \n",
       "4    26711    Deborah  Esquivel  Female  Missouri   48    1/1/2017   \n",
       "\n",
       "   number_of_dependants marital_status  income  ...  reordered  \\\n",
       "0                     3        married  165665  ...          0   \n",
       "1                     3        married  165665  ...          1   \n",
       "2                     3        married  165665  ...          1   \n",
       "3                     3        married  165665  ...          0   \n",
       "4                     3        married  165665  ...          1   \n",
       "\n",
       "     price_range_loc    busiest_days  busiest_period_of_day  max_order  \\\n",
       "0  Mid-range product    Busiest days            Most orders          8   \n",
       "1  Mid-range product  Regularly busy            Most orders          8   \n",
       "2  Mid-range product    Busiest days            Most orders          8   \n",
       "3  Low-range product  Regularly busy            Most orders          8   \n",
       "4  Low-range product    Slowest days            Most orders          8   \n",
       "\n",
       "   loyalty_flag  mean_product_price  spending_flag  \\\n",
       "0  New customer            7.988889    Low spender   \n",
       "1  New customer            7.988889    Low spender   \n",
       "2  New customer            7.988889    Low spender   \n",
       "3  New customer            7.988889    Low spender   \n",
       "4  New customer            7.988889    Low spender   \n",
       "\n",
       "   median_days_between_orders   order_frequency  \n",
       "0                        19.0  Regular customer  \n",
       "1                        19.0  Regular customer  \n",
       "2                        19.0  Regular customer  \n",
       "3                        19.0  Regular customer  \n",
       "4                        19.0  Regular customer  \n",
       "\n",
       "[5 rows x 31 columns]"
      ]
     },
     "execution_count": 9,
     "metadata": {},
     "output_type": "execute_result"
    }
   ],
   "source": [
    "#check dataset\n",
    "df.head(5)"
   ]
  },
  {
   "cell_type": "markdown",
   "id": "8dc125a3-9051-4b30-b6fa-eefb011aa2bc",
   "metadata": {},
   "source": [
    "### 2. Security Implications"
   ]
  },
  {
   "cell_type": "markdown",
   "id": "dc7f4682-7ce7-4b15-83c0-938ff3ff0b36",
   "metadata": {},
   "source": [
    "The dataframe includes personally identifiable information in the following columns:\n",
    "- 'First Name'\n",
    "- 'Surnam'"
   ]
  },
  {
   "cell_type": "code",
   "execution_count": 12,
   "id": "6b956ddf-ed0f-4eaf-b348-b10cd3a5dc7b",
   "metadata": {},
   "outputs": [],
   "source": [
    "#Drop 'First Name' and 'Surnam' columns from dataframe\n",
    "df.drop(['First Name', 'Surnam'], axis=1, inplace=True)"
   ]
  },
  {
   "cell_type": "code",
   "execution_count": 13,
   "id": "f73d4995-a17d-4e7f-b123-6048740fddee",
   "metadata": {},
   "outputs": [
    {
     "data": {
      "text/html": [
       "<div>\n",
       "<style scoped>\n",
       "    .dataframe tbody tr th:only-of-type {\n",
       "        vertical-align: middle;\n",
       "    }\n",
       "\n",
       "    .dataframe tbody tr th {\n",
       "        vertical-align: top;\n",
       "    }\n",
       "\n",
       "    .dataframe thead th {\n",
       "        text-align: right;\n",
       "    }\n",
       "</style>\n",
       "<table border=\"1\" class=\"dataframe\">\n",
       "  <thead>\n",
       "    <tr style=\"text-align: right;\">\n",
       "      <th></th>\n",
       "      <th>user_id</th>\n",
       "      <th>Gender</th>\n",
       "      <th>STATE</th>\n",
       "      <th>Age</th>\n",
       "      <th>date_joined</th>\n",
       "      <th>number_of_dependants</th>\n",
       "      <th>marital_status</th>\n",
       "      <th>income</th>\n",
       "      <th>product_id</th>\n",
       "      <th>product_name</th>\n",
       "      <th>...</th>\n",
       "      <th>reordered</th>\n",
       "      <th>price_range_loc</th>\n",
       "      <th>busiest_days</th>\n",
       "      <th>busiest_period_of_day</th>\n",
       "      <th>max_order</th>\n",
       "      <th>loyalty_flag</th>\n",
       "      <th>mean_product_price</th>\n",
       "      <th>spending_flag</th>\n",
       "      <th>median_days_between_orders</th>\n",
       "      <th>order_frequency</th>\n",
       "    </tr>\n",
       "  </thead>\n",
       "  <tbody>\n",
       "    <tr>\n",
       "      <th>0</th>\n",
       "      <td>26711</td>\n",
       "      <td>Female</td>\n",
       "      <td>Missouri</td>\n",
       "      <td>48</td>\n",
       "      <td>1/1/2017</td>\n",
       "      <td>3</td>\n",
       "      <td>married</td>\n",
       "      <td>165665</td>\n",
       "      <td>196</td>\n",
       "      <td>Soda</td>\n",
       "      <td>...</td>\n",
       "      <td>0</td>\n",
       "      <td>Mid-range product</td>\n",
       "      <td>Busiest days</td>\n",
       "      <td>Most orders</td>\n",
       "      <td>8</td>\n",
       "      <td>New customer</td>\n",
       "      <td>7.988889</td>\n",
       "      <td>Low spender</td>\n",
       "      <td>19.0</td>\n",
       "      <td>Regular customer</td>\n",
       "    </tr>\n",
       "    <tr>\n",
       "      <th>1</th>\n",
       "      <td>26711</td>\n",
       "      <td>Female</td>\n",
       "      <td>Missouri</td>\n",
       "      <td>48</td>\n",
       "      <td>1/1/2017</td>\n",
       "      <td>3</td>\n",
       "      <td>married</td>\n",
       "      <td>165665</td>\n",
       "      <td>196</td>\n",
       "      <td>Soda</td>\n",
       "      <td>...</td>\n",
       "      <td>1</td>\n",
       "      <td>Mid-range product</td>\n",
       "      <td>Regularly busy</td>\n",
       "      <td>Most orders</td>\n",
       "      <td>8</td>\n",
       "      <td>New customer</td>\n",
       "      <td>7.988889</td>\n",
       "      <td>Low spender</td>\n",
       "      <td>19.0</td>\n",
       "      <td>Regular customer</td>\n",
       "    </tr>\n",
       "    <tr>\n",
       "      <th>2</th>\n",
       "      <td>26711</td>\n",
       "      <td>Female</td>\n",
       "      <td>Missouri</td>\n",
       "      <td>48</td>\n",
       "      <td>1/1/2017</td>\n",
       "      <td>3</td>\n",
       "      <td>married</td>\n",
       "      <td>165665</td>\n",
       "      <td>196</td>\n",
       "      <td>Soda</td>\n",
       "      <td>...</td>\n",
       "      <td>1</td>\n",
       "      <td>Mid-range product</td>\n",
       "      <td>Busiest days</td>\n",
       "      <td>Most orders</td>\n",
       "      <td>8</td>\n",
       "      <td>New customer</td>\n",
       "      <td>7.988889</td>\n",
       "      <td>Low spender</td>\n",
       "      <td>19.0</td>\n",
       "      <td>Regular customer</td>\n",
       "    </tr>\n",
       "    <tr>\n",
       "      <th>3</th>\n",
       "      <td>26711</td>\n",
       "      <td>Female</td>\n",
       "      <td>Missouri</td>\n",
       "      <td>48</td>\n",
       "      <td>1/1/2017</td>\n",
       "      <td>3</td>\n",
       "      <td>married</td>\n",
       "      <td>165665</td>\n",
       "      <td>6184</td>\n",
       "      <td>Clementines</td>\n",
       "      <td>...</td>\n",
       "      <td>0</td>\n",
       "      <td>Low-range product</td>\n",
       "      <td>Regularly busy</td>\n",
       "      <td>Most orders</td>\n",
       "      <td>8</td>\n",
       "      <td>New customer</td>\n",
       "      <td>7.988889</td>\n",
       "      <td>Low spender</td>\n",
       "      <td>19.0</td>\n",
       "      <td>Regular customer</td>\n",
       "    </tr>\n",
       "    <tr>\n",
       "      <th>4</th>\n",
       "      <td>26711</td>\n",
       "      <td>Female</td>\n",
       "      <td>Missouri</td>\n",
       "      <td>48</td>\n",
       "      <td>1/1/2017</td>\n",
       "      <td>3</td>\n",
       "      <td>married</td>\n",
       "      <td>165665</td>\n",
       "      <td>6184</td>\n",
       "      <td>Clementines</td>\n",
       "      <td>...</td>\n",
       "      <td>1</td>\n",
       "      <td>Low-range product</td>\n",
       "      <td>Slowest days</td>\n",
       "      <td>Most orders</td>\n",
       "      <td>8</td>\n",
       "      <td>New customer</td>\n",
       "      <td>7.988889</td>\n",
       "      <td>Low spender</td>\n",
       "      <td>19.0</td>\n",
       "      <td>Regular customer</td>\n",
       "    </tr>\n",
       "  </tbody>\n",
       "</table>\n",
       "<p>5 rows × 29 columns</p>\n",
       "</div>"
      ],
      "text/plain": [
       "   user_id  Gender     STATE  Age date_joined  number_of_dependants  \\\n",
       "0    26711  Female  Missouri   48    1/1/2017                     3   \n",
       "1    26711  Female  Missouri   48    1/1/2017                     3   \n",
       "2    26711  Female  Missouri   48    1/1/2017                     3   \n",
       "3    26711  Female  Missouri   48    1/1/2017                     3   \n",
       "4    26711  Female  Missouri   48    1/1/2017                     3   \n",
       "\n",
       "  marital_status  income  product_id product_name  ...  reordered  \\\n",
       "0        married  165665         196         Soda  ...          0   \n",
       "1        married  165665         196         Soda  ...          1   \n",
       "2        married  165665         196         Soda  ...          1   \n",
       "3        married  165665        6184  Clementines  ...          0   \n",
       "4        married  165665        6184  Clementines  ...          1   \n",
       "\n",
       "     price_range_loc    busiest_days  busiest_period_of_day  max_order  \\\n",
       "0  Mid-range product    Busiest days            Most orders          8   \n",
       "1  Mid-range product  Regularly busy            Most orders          8   \n",
       "2  Mid-range product    Busiest days            Most orders          8   \n",
       "3  Low-range product  Regularly busy            Most orders          8   \n",
       "4  Low-range product    Slowest days            Most orders          8   \n",
       "\n",
       "   loyalty_flag  mean_product_price  spending_flag  \\\n",
       "0  New customer            7.988889    Low spender   \n",
       "1  New customer            7.988889    Low spender   \n",
       "2  New customer            7.988889    Low spender   \n",
       "3  New customer            7.988889    Low spender   \n",
       "4  New customer            7.988889    Low spender   \n",
       "\n",
       "   median_days_between_orders   order_frequency  \n",
       "0                        19.0  Regular customer  \n",
       "1                        19.0  Regular customer  \n",
       "2                        19.0  Regular customer  \n",
       "3                        19.0  Regular customer  \n",
       "4                        19.0  Regular customer  \n",
       "\n",
       "[5 rows x 29 columns]"
      ]
     },
     "execution_count": 13,
     "metadata": {},
     "output_type": "execute_result"
    }
   ],
   "source": [
    "#Check updated dataframe, without PII columns\n",
    "df.head(5)"
   ]
  },
  {
   "cell_type": "code",
   "execution_count": 14,
   "id": "e86ae443-783f-430f-bf95-f52056d7c7b1",
   "metadata": {},
   "outputs": [],
   "source": [
    "#Successfully removed 'First Name' and 'Surnam' columns"
   ]
  },
  {
   "cell_type": "markdown",
   "id": "2996d8b3-463b-48fb-bf47-198a9194773d",
   "metadata": {},
   "source": [
    "### 3. Regional Segmentation of Data"
   ]
  },
  {
   "cell_type": "code",
   "execution_count": 16,
   "id": "eaec4363-b9dd-46d6-8ff3-c179a1063c52",
   "metadata": {},
   "outputs": [],
   "source": [
    "#Create a regional segmentation of the data.\n",
    "#Create a 'Region' column based on the “STATE” column from dataframe"
   ]
  },
  {
   "cell_type": "code",
   "execution_count": 17,
   "id": "4c0bc738-4675-4a5a-a075-cc4bd7c09106",
   "metadata": {},
   "outputs": [],
   "source": [
    "#Create Northeast Region List\n",
    "Northeast=['Maine','New Hampshire','Vermont','Massachusetts','Rhode Island','Connecticut','New York','Pennsylvania','New Jersey']\n",
    "\n",
    "#Create Midwest Region List\n",
    "Midwest=['Wisconsin','Michigan','Illinois','Indiana','Ohio','North Dakota','South Dakota','Nebraska','Kansas','Minnesota','Iowa','Missouri']\n",
    "\n",
    "#Create South Region List\n",
    "South=['Delaware','Maryland','District of Columbia','Virginia','West Virginia','North Carolina','South Carolina','Georgia','Florida','Kentucky','Tennessee','Mississippi','Alabama','Oklahoma','Texas','Arkansas','Louisiana']\n",
    "\n",
    "#Create West Region List\n",
    "West=['Idaho','Montana','Wyoming','Nevada','Utah','Colorado','Arizona','New Mexico','Alaska','Washington','Oregon','California','Hawaii']\n"
   ]
  },
  {
   "cell_type": "code",
   "execution_count": 18,
   "id": "275f2293-c148-478c-af75-52967d4ab128",
   "metadata": {},
   "outputs": [],
   "source": [
    "#Create columns for each region list\n",
    "\n",
    "#Creating Column for Northeast\n",
    "df.loc[df['STATE'].isin(Northeast),'region']='Northeast'\n",
    "\n",
    "#Creating Column for Midwest\n",
    "df.loc[df['STATE'].isin(Midwest),'region']='Midwest'\n",
    "\n",
    "#Creating Column for South\n",
    "df.loc[df['STATE'].isin(South),'region']='South'\n",
    "\n",
    "#Creating Column for West\n",
    "df.loc[df['STATE'].isin(West),'region']='West'"
   ]
  },
  {
   "cell_type": "code",
   "execution_count": 19,
   "id": "5e9415f4-7f14-459f-afcb-3adee383516c",
   "metadata": {},
   "outputs": [
    {
     "data": {
      "text/html": [
       "<div>\n",
       "<style scoped>\n",
       "    .dataframe tbody tr th:only-of-type {\n",
       "        vertical-align: middle;\n",
       "    }\n",
       "\n",
       "    .dataframe tbody tr th {\n",
       "        vertical-align: top;\n",
       "    }\n",
       "\n",
       "    .dataframe thead th {\n",
       "        text-align: right;\n",
       "    }\n",
       "</style>\n",
       "<table border=\"1\" class=\"dataframe\">\n",
       "  <thead>\n",
       "    <tr style=\"text-align: right;\">\n",
       "      <th></th>\n",
       "      <th>user_id</th>\n",
       "      <th>Gender</th>\n",
       "      <th>STATE</th>\n",
       "      <th>Age</th>\n",
       "      <th>date_joined</th>\n",
       "      <th>number_of_dependants</th>\n",
       "      <th>marital_status</th>\n",
       "      <th>income</th>\n",
       "      <th>product_id</th>\n",
       "      <th>product_name</th>\n",
       "      <th>...</th>\n",
       "      <th>price_range_loc</th>\n",
       "      <th>busiest_days</th>\n",
       "      <th>busiest_period_of_day</th>\n",
       "      <th>max_order</th>\n",
       "      <th>loyalty_flag</th>\n",
       "      <th>mean_product_price</th>\n",
       "      <th>spending_flag</th>\n",
       "      <th>median_days_between_orders</th>\n",
       "      <th>order_frequency</th>\n",
       "      <th>region</th>\n",
       "    </tr>\n",
       "  </thead>\n",
       "  <tbody>\n",
       "    <tr>\n",
       "      <th>0</th>\n",
       "      <td>26711</td>\n",
       "      <td>Female</td>\n",
       "      <td>Missouri</td>\n",
       "      <td>48</td>\n",
       "      <td>1/1/2017</td>\n",
       "      <td>3</td>\n",
       "      <td>married</td>\n",
       "      <td>165665</td>\n",
       "      <td>196</td>\n",
       "      <td>Soda</td>\n",
       "      <td>...</td>\n",
       "      <td>Mid-range product</td>\n",
       "      <td>Busiest days</td>\n",
       "      <td>Most orders</td>\n",
       "      <td>8</td>\n",
       "      <td>New customer</td>\n",
       "      <td>7.988889</td>\n",
       "      <td>Low spender</td>\n",
       "      <td>19.0</td>\n",
       "      <td>Regular customer</td>\n",
       "      <td>Midwest</td>\n",
       "    </tr>\n",
       "    <tr>\n",
       "      <th>1</th>\n",
       "      <td>26711</td>\n",
       "      <td>Female</td>\n",
       "      <td>Missouri</td>\n",
       "      <td>48</td>\n",
       "      <td>1/1/2017</td>\n",
       "      <td>3</td>\n",
       "      <td>married</td>\n",
       "      <td>165665</td>\n",
       "      <td>196</td>\n",
       "      <td>Soda</td>\n",
       "      <td>...</td>\n",
       "      <td>Mid-range product</td>\n",
       "      <td>Regularly busy</td>\n",
       "      <td>Most orders</td>\n",
       "      <td>8</td>\n",
       "      <td>New customer</td>\n",
       "      <td>7.988889</td>\n",
       "      <td>Low spender</td>\n",
       "      <td>19.0</td>\n",
       "      <td>Regular customer</td>\n",
       "      <td>Midwest</td>\n",
       "    </tr>\n",
       "    <tr>\n",
       "      <th>2</th>\n",
       "      <td>26711</td>\n",
       "      <td>Female</td>\n",
       "      <td>Missouri</td>\n",
       "      <td>48</td>\n",
       "      <td>1/1/2017</td>\n",
       "      <td>3</td>\n",
       "      <td>married</td>\n",
       "      <td>165665</td>\n",
       "      <td>196</td>\n",
       "      <td>Soda</td>\n",
       "      <td>...</td>\n",
       "      <td>Mid-range product</td>\n",
       "      <td>Busiest days</td>\n",
       "      <td>Most orders</td>\n",
       "      <td>8</td>\n",
       "      <td>New customer</td>\n",
       "      <td>7.988889</td>\n",
       "      <td>Low spender</td>\n",
       "      <td>19.0</td>\n",
       "      <td>Regular customer</td>\n",
       "      <td>Midwest</td>\n",
       "    </tr>\n",
       "    <tr>\n",
       "      <th>3</th>\n",
       "      <td>26711</td>\n",
       "      <td>Female</td>\n",
       "      <td>Missouri</td>\n",
       "      <td>48</td>\n",
       "      <td>1/1/2017</td>\n",
       "      <td>3</td>\n",
       "      <td>married</td>\n",
       "      <td>165665</td>\n",
       "      <td>6184</td>\n",
       "      <td>Clementines</td>\n",
       "      <td>...</td>\n",
       "      <td>Low-range product</td>\n",
       "      <td>Regularly busy</td>\n",
       "      <td>Most orders</td>\n",
       "      <td>8</td>\n",
       "      <td>New customer</td>\n",
       "      <td>7.988889</td>\n",
       "      <td>Low spender</td>\n",
       "      <td>19.0</td>\n",
       "      <td>Regular customer</td>\n",
       "      <td>Midwest</td>\n",
       "    </tr>\n",
       "    <tr>\n",
       "      <th>4</th>\n",
       "      <td>26711</td>\n",
       "      <td>Female</td>\n",
       "      <td>Missouri</td>\n",
       "      <td>48</td>\n",
       "      <td>1/1/2017</td>\n",
       "      <td>3</td>\n",
       "      <td>married</td>\n",
       "      <td>165665</td>\n",
       "      <td>6184</td>\n",
       "      <td>Clementines</td>\n",
       "      <td>...</td>\n",
       "      <td>Low-range product</td>\n",
       "      <td>Slowest days</td>\n",
       "      <td>Most orders</td>\n",
       "      <td>8</td>\n",
       "      <td>New customer</td>\n",
       "      <td>7.988889</td>\n",
       "      <td>Low spender</td>\n",
       "      <td>19.0</td>\n",
       "      <td>Regular customer</td>\n",
       "      <td>Midwest</td>\n",
       "    </tr>\n",
       "  </tbody>\n",
       "</table>\n",
       "<p>5 rows × 30 columns</p>\n",
       "</div>"
      ],
      "text/plain": [
       "   user_id  Gender     STATE  Age date_joined  number_of_dependants  \\\n",
       "0    26711  Female  Missouri   48    1/1/2017                     3   \n",
       "1    26711  Female  Missouri   48    1/1/2017                     3   \n",
       "2    26711  Female  Missouri   48    1/1/2017                     3   \n",
       "3    26711  Female  Missouri   48    1/1/2017                     3   \n",
       "4    26711  Female  Missouri   48    1/1/2017                     3   \n",
       "\n",
       "  marital_status  income  product_id product_name  ...    price_range_loc  \\\n",
       "0        married  165665         196         Soda  ...  Mid-range product   \n",
       "1        married  165665         196         Soda  ...  Mid-range product   \n",
       "2        married  165665         196         Soda  ...  Mid-range product   \n",
       "3        married  165665        6184  Clementines  ...  Low-range product   \n",
       "4        married  165665        6184  Clementines  ...  Low-range product   \n",
       "\n",
       "     busiest_days  busiest_period_of_day  max_order  loyalty_flag  \\\n",
       "0    Busiest days            Most orders          8  New customer   \n",
       "1  Regularly busy            Most orders          8  New customer   \n",
       "2    Busiest days            Most orders          8  New customer   \n",
       "3  Regularly busy            Most orders          8  New customer   \n",
       "4    Slowest days            Most orders          8  New customer   \n",
       "\n",
       "   mean_product_price  spending_flag  median_days_between_orders  \\\n",
       "0            7.988889    Low spender                        19.0   \n",
       "1            7.988889    Low spender                        19.0   \n",
       "2            7.988889    Low spender                        19.0   \n",
       "3            7.988889    Low spender                        19.0   \n",
       "4            7.988889    Low spender                        19.0   \n",
       "\n",
       "    order_frequency   region  \n",
       "0  Regular customer  Midwest  \n",
       "1  Regular customer  Midwest  \n",
       "2  Regular customer  Midwest  \n",
       "3  Regular customer  Midwest  \n",
       "4  Regular customer  Midwest  \n",
       "\n",
       "[5 rows x 30 columns]"
      ]
     },
     "execution_count": 19,
     "metadata": {},
     "output_type": "execute_result"
    }
   ],
   "source": [
    "#Check for Region Column\n",
    "df.head(5)"
   ]
  },
  {
   "cell_type": "code",
   "execution_count": 20,
   "id": "1c9bfc56-c56a-4857-9b03-88e83ef287a9",
   "metadata": {},
   "outputs": [],
   "source": [
    "#Region column successfully added"
   ]
  },
  {
   "cell_type": "code",
   "execution_count": 21,
   "id": "2431b7e8-2056-4425-a7c8-0c158dee92ab",
   "metadata": {},
   "outputs": [
    {
     "name": "stdout",
     "output_type": "stream",
     "text": [
      "region\n",
      "South        10791885\n",
      "West          8292913\n",
      "Midwest       7597325\n",
      "Northeast     5722736\n",
      "Name: count, dtype: int64\n"
     ]
    }
   ],
   "source": [
    "#check frequency of region column\n",
    "#Get counts for each unique item in the 'region' column\n",
    "region_counts = df['region'].value_counts()\n",
    "\n",
    "print(region_counts)"
   ]
  },
  {
   "cell_type": "code",
   "execution_count": 22,
   "id": "366b94d0-85db-4db8-a8a2-6719977d07df",
   "metadata": {},
   "outputs": [],
   "source": [
    "#Create crosstab between 'spending_flag' and 'region' columns\n",
    "spending_habits_by_region=pd.crosstab(df['region'],df['spending_flag'],dropna=False)"
   ]
  },
  {
   "cell_type": "code",
   "execution_count": 23,
   "id": "ccf6b45c-292d-4105-b1e7-a6f83edadb16",
   "metadata": {},
   "outputs": [
    {
     "data": {
      "text/html": [
       "<div>\n",
       "<style scoped>\n",
       "    .dataframe tbody tr th:only-of-type {\n",
       "        vertical-align: middle;\n",
       "    }\n",
       "\n",
       "    .dataframe tbody tr th {\n",
       "        vertical-align: top;\n",
       "    }\n",
       "\n",
       "    .dataframe thead th {\n",
       "        text-align: right;\n",
       "    }\n",
       "</style>\n",
       "<table border=\"1\" class=\"dataframe\">\n",
       "  <thead>\n",
       "    <tr style=\"text-align: right;\">\n",
       "      <th>spending_flag</th>\n",
       "      <th>High spender</th>\n",
       "      <th>Low spender</th>\n",
       "    </tr>\n",
       "    <tr>\n",
       "      <th>region</th>\n",
       "      <th></th>\n",
       "      <th></th>\n",
       "    </tr>\n",
       "  </thead>\n",
       "  <tbody>\n",
       "    <tr>\n",
       "      <th>Midwest</th>\n",
       "      <td>29265</td>\n",
       "      <td>7568060</td>\n",
       "    </tr>\n",
       "    <tr>\n",
       "      <th>Northeast</th>\n",
       "      <td>18642</td>\n",
       "      <td>5704094</td>\n",
       "    </tr>\n",
       "    <tr>\n",
       "      <th>South</th>\n",
       "      <td>40564</td>\n",
       "      <td>10751321</td>\n",
       "    </tr>\n",
       "    <tr>\n",
       "      <th>West</th>\n",
       "      <td>31223</td>\n",
       "      <td>8261690</td>\n",
       "    </tr>\n",
       "  </tbody>\n",
       "</table>\n",
       "</div>"
      ],
      "text/plain": [
       "spending_flag  High spender  Low spender\n",
       "region                                  \n",
       "Midwest               29265      7568060\n",
       "Northeast             18642      5704094\n",
       "South                 40564     10751321\n",
       "West                  31223      8261690"
      ]
     },
     "execution_count": 23,
     "metadata": {},
     "output_type": "execute_result"
    }
   ],
   "source": [
    "#Print crosstab\n",
    "spending_habits_by_region"
   ]
  },
  {
   "cell_type": "code",
   "execution_count": 24,
   "id": "1ca73ea7-3265-4a42-9516-e40451903421",
   "metadata": {},
   "outputs": [
    {
     "data": {
      "text/plain": [
       "Text(0.5, 1.0, 'Spending Habits by Region')"
      ]
     },
     "execution_count": 24,
     "metadata": {},
     "output_type": "execute_result"
    },
    {
     "data": {
      "image/png": "[encoded data removed]",
      "text/plain": [
       "<Figure size 640x480 with 1 Axes>"
      ]
     },
     "metadata": {},
     "output_type": "display_data"
    }
   ],
   "source": [
    "#Create bar chart of spending_habits_by_region crosstab\n",
    "bar_spending_habits_by_region=spending_habits_by_region.plot.bar(color=['green','blue'])\n",
    "# Add a title\n",
    "plt.title('Spending Habits by Region')"
   ]
  },
  {
   "cell_type": "markdown",
   "id": "c20abbab-5600-4cb5-a009-9febdc48da2f",
   "metadata": {},
   "source": [
    "**Observations:**\n",
    "\n",
    "- All regions show that majority of customers are low spenders\n",
    "- The most low spenders are in the South region\n",
    "- The least low spenders are in the Northeast region\n",
    "- All regions have extremely low amounts of high spenders in comparison to their low spenders"
   ]
  },
  {
   "cell_type": "code",
   "execution_count": 26,
   "id": "8d6c71f4-c0ad-4e53-bc56-3d2f9652fe31",
   "metadata": {},
   "outputs": [],
   "source": [
    "#Export bar chart to Visualizations folder\n",
    "bar_spending_habits_by_region.figure.savefig(os.path.join(path,'04 Analysis','Visualizations','bar_spending_habits_by_region.png'))"
   ]
  },
  {
   "cell_type": "code",
   "execution_count": 27,
   "id": "1d5e643f-e54f-44f0-b3cc-0d0ed4432db7",
   "metadata": {},
   "outputs": [],
   "source": [
    "#Create crosstab between 'order_frequency' and 'region' columns \n",
    "order_frequency_by_region_crosstab=pd.crosstab(df['region'],df['order_frequency'],dropna=False)"
   ]
  },
  {
   "cell_type": "code",
   "execution_count": 28,
   "id": "804293ff-92b3-459a-af4b-b135af2001cf",
   "metadata": {},
   "outputs": [
    {
     "data": {
      "text/html": [
       "<div>\n",
       "<style scoped>\n",
       "    .dataframe tbody tr th:only-of-type {\n",
       "        vertical-align: middle;\n",
       "    }\n",
       "\n",
       "    .dataframe tbody tr th {\n",
       "        vertical-align: top;\n",
       "    }\n",
       "\n",
       "    .dataframe thead th {\n",
       "        text-align: right;\n",
       "    }\n",
       "</style>\n",
       "<table border=\"1\" class=\"dataframe\">\n",
       "  <thead>\n",
       "    <tr style=\"text-align: right;\">\n",
       "      <th>order_frequency</th>\n",
       "      <th>Frequent customer</th>\n",
       "      <th>Non-frequent customer</th>\n",
       "      <th>Regular customer</th>\n",
       "      <th>NaN</th>\n",
       "    </tr>\n",
       "    <tr>\n",
       "      <th>region</th>\n",
       "      <th></th>\n",
       "      <th></th>\n",
       "      <th></th>\n",
       "      <th></th>\n",
       "    </tr>\n",
       "  </thead>\n",
       "  <tbody>\n",
       "    <tr>\n",
       "      <th>Midwest</th>\n",
       "      <td>5017709</td>\n",
       "      <td>863419</td>\n",
       "      <td>1716197</td>\n",
       "      <td>0</td>\n",
       "    </tr>\n",
       "    <tr>\n",
       "      <th>Northeast</th>\n",
       "      <td>3804566</td>\n",
       "      <td>630182</td>\n",
       "      <td>1287988</td>\n",
       "      <td>0</td>\n",
       "    </tr>\n",
       "    <tr>\n",
       "      <th>South</th>\n",
       "      <td>7192372</td>\n",
       "      <td>1215088</td>\n",
       "      <td>2384420</td>\n",
       "      <td>5</td>\n",
       "    </tr>\n",
       "    <tr>\n",
       "      <th>West</th>\n",
       "      <td>5545206</td>\n",
       "      <td>927748</td>\n",
       "      <td>1819959</td>\n",
       "      <td>0</td>\n",
       "    </tr>\n",
       "  </tbody>\n",
       "</table>\n",
       "</div>"
      ],
      "text/plain": [
       "order_frequency  Frequent customer  Non-frequent customer  Regular customer  \\\n",
       "region                                                                        \n",
       "Midwest                    5017709                 863419           1716197   \n",
       "Northeast                  3804566                 630182           1287988   \n",
       "South                      7192372                1215088           2384420   \n",
       "West                       5545206                 927748           1819959   \n",
       "\n",
       "order_frequency  NaN  \n",
       "region                \n",
       "Midwest            0  \n",
       "Northeast          0  \n",
       "South              5  \n",
       "West               0  "
      ]
     },
     "execution_count": 28,
     "metadata": {},
     "output_type": "execute_result"
    }
   ],
   "source": [
    "#print crosstab\n",
    "order_frequency_by_region_crosstab"
   ]
  },
  {
   "cell_type": "code",
   "execution_count": 29,
   "id": "ca2a2239-29b5-42e7-9486-5da12e9f41a0",
   "metadata": {},
   "outputs": [
    {
     "data": {
      "text/html": [
       "<div>\n",
       "<style scoped>\n",
       "    .dataframe tbody tr th:only-of-type {\n",
       "        vertical-align: middle;\n",
       "    }\n",
       "\n",
       "    .dataframe tbody tr th {\n",
       "        vertical-align: top;\n",
       "    }\n",
       "\n",
       "    .dataframe thead th {\n",
       "        text-align: right;\n",
       "    }\n",
       "</style>\n",
       "<table border=\"1\" class=\"dataframe\">\n",
       "  <thead>\n",
       "    <tr style=\"text-align: right;\">\n",
       "      <th></th>\n",
       "      <th>user_id</th>\n",
       "      <th>Gender</th>\n",
       "      <th>STATE</th>\n",
       "      <th>Age</th>\n",
       "      <th>date_joined</th>\n",
       "      <th>number_of_dependants</th>\n",
       "      <th>marital_status</th>\n",
       "      <th>income</th>\n",
       "      <th>product_id</th>\n",
       "      <th>product_name</th>\n",
       "      <th>...</th>\n",
       "      <th>price_range_loc</th>\n",
       "      <th>busiest_days</th>\n",
       "      <th>busiest_period_of_day</th>\n",
       "      <th>max_order</th>\n",
       "      <th>loyalty_flag</th>\n",
       "      <th>mean_product_price</th>\n",
       "      <th>spending_flag</th>\n",
       "      <th>median_days_between_orders</th>\n",
       "      <th>order_frequency</th>\n",
       "      <th>region</th>\n",
       "    </tr>\n",
       "  </thead>\n",
       "  <tbody>\n",
       "    <tr>\n",
       "      <th>18509448</th>\n",
       "      <td>159838</td>\n",
       "      <td>Male</td>\n",
       "      <td>Arkansas</td>\n",
       "      <td>63</td>\n",
       "      <td>11/9/2018</td>\n",
       "      <td>3</td>\n",
       "      <td>married</td>\n",
       "      <td>140994</td>\n",
       "      <td>10749</td>\n",
       "      <td>Organic Red Bell Pepper</td>\n",
       "      <td>...</td>\n",
       "      <td>Mid-range product</td>\n",
       "      <td>Busiest days</td>\n",
       "      <td>Average orders</td>\n",
       "      <td>1</td>\n",
       "      <td>New customer</td>\n",
       "      <td>7.42</td>\n",
       "      <td>Low spender</td>\n",
       "      <td>NaN</td>\n",
       "      <td>NaN</td>\n",
       "      <td>South</td>\n",
       "    </tr>\n",
       "    <tr>\n",
       "      <th>18509449</th>\n",
       "      <td>159838</td>\n",
       "      <td>Male</td>\n",
       "      <td>Arkansas</td>\n",
       "      <td>63</td>\n",
       "      <td>11/9/2018</td>\n",
       "      <td>3</td>\n",
       "      <td>married</td>\n",
       "      <td>140994</td>\n",
       "      <td>21334</td>\n",
       "      <td>Organic Peeled Garlic</td>\n",
       "      <td>...</td>\n",
       "      <td>Mid-range product</td>\n",
       "      <td>Busiest days</td>\n",
       "      <td>Average orders</td>\n",
       "      <td>1</td>\n",
       "      <td>New customer</td>\n",
       "      <td>7.42</td>\n",
       "      <td>Low spender</td>\n",
       "      <td>NaN</td>\n",
       "      <td>NaN</td>\n",
       "      <td>South</td>\n",
       "    </tr>\n",
       "    <tr>\n",
       "      <th>18509450</th>\n",
       "      <td>159838</td>\n",
       "      <td>Male</td>\n",
       "      <td>Arkansas</td>\n",
       "      <td>63</td>\n",
       "      <td>11/9/2018</td>\n",
       "      <td>3</td>\n",
       "      <td>married</td>\n",
       "      <td>140994</td>\n",
       "      <td>22198</td>\n",
       "      <td>4X Ultra Concentrated Natural Laundry Detergen...</td>\n",
       "      <td>...</td>\n",
       "      <td>Low-range product</td>\n",
       "      <td>Busiest days</td>\n",
       "      <td>Average orders</td>\n",
       "      <td>1</td>\n",
       "      <td>New customer</td>\n",
       "      <td>7.42</td>\n",
       "      <td>Low spender</td>\n",
       "      <td>NaN</td>\n",
       "      <td>NaN</td>\n",
       "      <td>South</td>\n",
       "    </tr>\n",
       "    <tr>\n",
       "      <th>18509451</th>\n",
       "      <td>159838</td>\n",
       "      <td>Male</td>\n",
       "      <td>Arkansas</td>\n",
       "      <td>63</td>\n",
       "      <td>11/9/2018</td>\n",
       "      <td>3</td>\n",
       "      <td>married</td>\n",
       "      <td>140994</td>\n",
       "      <td>23695</td>\n",
       "      <td>California Veggie Burger</td>\n",
       "      <td>...</td>\n",
       "      <td>Low-range product</td>\n",
       "      <td>Busiest days</td>\n",
       "      <td>Average orders</td>\n",
       "      <td>1</td>\n",
       "      <td>New customer</td>\n",
       "      <td>7.42</td>\n",
       "      <td>Low spender</td>\n",
       "      <td>NaN</td>\n",
       "      <td>NaN</td>\n",
       "      <td>South</td>\n",
       "    </tr>\n",
       "    <tr>\n",
       "      <th>18509452</th>\n",
       "      <td>159838</td>\n",
       "      <td>Male</td>\n",
       "      <td>Arkansas</td>\n",
       "      <td>63</td>\n",
       "      <td>11/9/2018</td>\n",
       "      <td>3</td>\n",
       "      <td>married</td>\n",
       "      <td>140994</td>\n",
       "      <td>33401</td>\n",
       "      <td>Goat Cheese Crumbles</td>\n",
       "      <td>...</td>\n",
       "      <td>Mid-range product</td>\n",
       "      <td>Busiest days</td>\n",
       "      <td>Average orders</td>\n",
       "      <td>1</td>\n",
       "      <td>New customer</td>\n",
       "      <td>7.42</td>\n",
       "      <td>Low spender</td>\n",
       "      <td>NaN</td>\n",
       "      <td>NaN</td>\n",
       "      <td>South</td>\n",
       "    </tr>\n",
       "  </tbody>\n",
       "</table>\n",
       "<p>5 rows × 30 columns</p>\n",
       "</div>"
      ],
      "text/plain": [
       "          user_id Gender     STATE  Age date_joined  number_of_dependants  \\\n",
       "18509448   159838   Male  Arkansas   63   11/9/2018                     3   \n",
       "18509449   159838   Male  Arkansas   63   11/9/2018                     3   \n",
       "18509450   159838   Male  Arkansas   63   11/9/2018                     3   \n",
       "18509451   159838   Male  Arkansas   63   11/9/2018                     3   \n",
       "18509452   159838   Male  Arkansas   63   11/9/2018                     3   \n",
       "\n",
       "         marital_status  income  product_id  \\\n",
       "18509448        married  140994       10749   \n",
       "18509449        married  140994       21334   \n",
       "18509450        married  140994       22198   \n",
       "18509451        married  140994       23695   \n",
       "18509452        married  140994       33401   \n",
       "\n",
       "                                               product_name  ...  \\\n",
       "18509448                            Organic Red Bell Pepper  ...   \n",
       "18509449                              Organic Peeled Garlic  ...   \n",
       "18509450  4X Ultra Concentrated Natural Laundry Detergen...  ...   \n",
       "18509451                           California Veggie Burger  ...   \n",
       "18509452                               Goat Cheese Crumbles  ...   \n",
       "\n",
       "            price_range_loc  busiest_days  busiest_period_of_day  max_order  \\\n",
       "18509448  Mid-range product  Busiest days         Average orders          1   \n",
       "18509449  Mid-range product  Busiest days         Average orders          1   \n",
       "18509450  Low-range product  Busiest days         Average orders          1   \n",
       "18509451  Low-range product  Busiest days         Average orders          1   \n",
       "18509452  Mid-range product  Busiest days         Average orders          1   \n",
       "\n",
       "          loyalty_flag  mean_product_price  spending_flag  \\\n",
       "18509448  New customer                7.42    Low spender   \n",
       "18509449  New customer                7.42    Low spender   \n",
       "18509450  New customer                7.42    Low spender   \n",
       "18509451  New customer                7.42    Low spender   \n",
       "18509452  New customer                7.42    Low spender   \n",
       "\n",
       "          median_days_between_orders  order_frequency  region  \n",
       "18509448                         NaN              NaN   South  \n",
       "18509449                         NaN              NaN   South  \n",
       "18509450                         NaN              NaN   South  \n",
       "18509451                         NaN              NaN   South  \n",
       "18509452                         NaN              NaN   South  \n",
       "\n",
       "[5 rows x 30 columns]"
      ]
     },
     "execution_count": 29,
     "metadata": {},
     "output_type": "execute_result"
    }
   ],
   "source": [
    "#View missing values in order_frequency column\n",
    "df.loc[df['order_frequency'].isnull()]"
   ]
  },
  {
   "cell_type": "code",
   "execution_count": 30,
   "id": "d6be0215-a18c-4a8f-a945-0a792beacd1f",
   "metadata": {},
   "outputs": [],
   "source": [
    "#These are all new customers, so they appear as missing in the order_frequency column because they only have 1 first order."
   ]
  },
  {
   "cell_type": "code",
   "execution_count": 31,
   "id": "fc6dc9e7-3e3e-4add-a846-95fe769a36be",
   "metadata": {},
   "outputs": [
    {
     "data": {
      "text/plain": [
       "Text(0.5, 1.0, 'Customer Order Frequency by Region')"
      ]
     },
     "execution_count": 31,
     "metadata": {},
     "output_type": "execute_result"
    },
    {
     "data": {
      "image/png": "[encoded data removed]",
      "text/plain": [
       "<Figure size 640x480 with 1 Axes>"
      ]
     },
     "metadata": {},
     "output_type": "display_data"
    }
   ],
   "source": [
    "#Create bar chart of order_frequency_by_region_crosstab\n",
    "bar_order_frequency_by_region= order_frequency_by_region_crosstab.plot.bar(color=['green','orange','blue','pink'])\n",
    "# Add a title\n",
    "plt.title('Customer Order Frequency by Region')"
   ]
  },
  {
   "cell_type": "code",
   "execution_count": 32,
   "id": "08c78cb1-6efa-4e58-8a17-f7072cbd344e",
   "metadata": {},
   "outputs": [],
   "source": [
    "#Export bar chart to Visualizations folder\n",
    "bar_order_frequency_by_region.figure.savefig(os.path.join(path,'04 Analysis','Visualizations','bar_order_frequency_by_region.png'))"
   ]
  },
  {
   "cell_type": "markdown",
   "id": "fbd06afa-c4c3-4326-b0b3-a57d8ac6dd22",
   "metadata": {},
   "source": [
    "**Observations:**\n",
    "Non-Frequent Customer: The median days between orders is greater than 20 days\n",
    "Regular Customer: The median days between orders is between 11 and 20 days\n",
    "Frequent Customer: The median days between orders is 10 or fewer days\n",
    "\n",
    "- The South has the most frequent, most regular and most non-frequent customers\n",
    "- The Midwest and West are close in terms of frequent customers\n",
    "- The Northeast as the least amount of frequent customers\n",
    "- Non-frequent customers are relatively close amongst the regions, with the South having the most non-frequent"
   ]
  },
  {
   "cell_type": "markdown",
   "id": "5c1f5be7-bde4-4830-9c8a-2d158e95530d",
   "metadata": {},
   "source": [
    "### 4. Exclusion of Low-Activity Customers"
   ]
  },
  {
   "cell_type": "code",
   "execution_count": 35,
   "id": "a1b5a5ef-7f10-470e-94bc-75c0b56efc63",
   "metadata": {},
   "outputs": [],
   "source": [
    "#Create exclusion flag for high-activity customers\n",
    "df.loc[df['max_order']>=5,'customer_activity_flag']='High Activity'\n",
    "\n",
    "#Create exclusion flag for low-activity customers\n",
    "df.loc[df['max_order']<5,'customer_activity_flag']='Low Activity'"
   ]
  },
  {
   "cell_type": "code",
   "execution_count": 36,
   "id": "bb08a190-618e-4570-be62-2ea64e8c75c3",
   "metadata": {},
   "outputs": [
    {
     "data": {
      "text/html": [
       "<div>\n",
       "<style scoped>\n",
       "    .dataframe tbody tr th:only-of-type {\n",
       "        vertical-align: middle;\n",
       "    }\n",
       "\n",
       "    .dataframe tbody tr th {\n",
       "        vertical-align: top;\n",
       "    }\n",
       "\n",
       "    .dataframe thead th {\n",
       "        text-align: right;\n",
       "    }\n",
       "</style>\n",
       "<table border=\"1\" class=\"dataframe\">\n",
       "  <thead>\n",
       "    <tr style=\"text-align: right;\">\n",
       "      <th></th>\n",
       "      <th>user_id</th>\n",
       "      <th>Gender</th>\n",
       "      <th>STATE</th>\n",
       "      <th>Age</th>\n",
       "      <th>date_joined</th>\n",
       "      <th>number_of_dependants</th>\n",
       "      <th>marital_status</th>\n",
       "      <th>income</th>\n",
       "      <th>product_id</th>\n",
       "      <th>product_name</th>\n",
       "      <th>...</th>\n",
       "      <th>busiest_days</th>\n",
       "      <th>busiest_period_of_day</th>\n",
       "      <th>max_order</th>\n",
       "      <th>loyalty_flag</th>\n",
       "      <th>mean_product_price</th>\n",
       "      <th>spending_flag</th>\n",
       "      <th>median_days_between_orders</th>\n",
       "      <th>order_frequency</th>\n",
       "      <th>region</th>\n",
       "      <th>customer_activity_flag</th>\n",
       "    </tr>\n",
       "  </thead>\n",
       "  <tbody>\n",
       "    <tr>\n",
       "      <th>0</th>\n",
       "      <td>26711</td>\n",
       "      <td>Female</td>\n",
       "      <td>Missouri</td>\n",
       "      <td>48</td>\n",
       "      <td>1/1/2017</td>\n",
       "      <td>3</td>\n",
       "      <td>married</td>\n",
       "      <td>165665</td>\n",
       "      <td>196</td>\n",
       "      <td>Soda</td>\n",
       "      <td>...</td>\n",
       "      <td>Busiest days</td>\n",
       "      <td>Most orders</td>\n",
       "      <td>8</td>\n",
       "      <td>New customer</td>\n",
       "      <td>7.988889</td>\n",
       "      <td>Low spender</td>\n",
       "      <td>19.0</td>\n",
       "      <td>Regular customer</td>\n",
       "      <td>Midwest</td>\n",
       "      <td>High Activity</td>\n",
       "    </tr>\n",
       "    <tr>\n",
       "      <th>1</th>\n",
       "      <td>26711</td>\n",
       "      <td>Female</td>\n",
       "      <td>Missouri</td>\n",
       "      <td>48</td>\n",
       "      <td>1/1/2017</td>\n",
       "      <td>3</td>\n",
       "      <td>married</td>\n",
       "      <td>165665</td>\n",
       "      <td>196</td>\n",
       "      <td>Soda</td>\n",
       "      <td>...</td>\n",
       "      <td>Regularly busy</td>\n",
       "      <td>Most orders</td>\n",
       "      <td>8</td>\n",
       "      <td>New customer</td>\n",
       "      <td>7.988889</td>\n",
       "      <td>Low spender</td>\n",
       "      <td>19.0</td>\n",
       "      <td>Regular customer</td>\n",
       "      <td>Midwest</td>\n",
       "      <td>High Activity</td>\n",
       "    </tr>\n",
       "    <tr>\n",
       "      <th>2</th>\n",
       "      <td>26711</td>\n",
       "      <td>Female</td>\n",
       "      <td>Missouri</td>\n",
       "      <td>48</td>\n",
       "      <td>1/1/2017</td>\n",
       "      <td>3</td>\n",
       "      <td>married</td>\n",
       "      <td>165665</td>\n",
       "      <td>196</td>\n",
       "      <td>Soda</td>\n",
       "      <td>...</td>\n",
       "      <td>Busiest days</td>\n",
       "      <td>Most orders</td>\n",
       "      <td>8</td>\n",
       "      <td>New customer</td>\n",
       "      <td>7.988889</td>\n",
       "      <td>Low spender</td>\n",
       "      <td>19.0</td>\n",
       "      <td>Regular customer</td>\n",
       "      <td>Midwest</td>\n",
       "      <td>High Activity</td>\n",
       "    </tr>\n",
       "    <tr>\n",
       "      <th>3</th>\n",
       "      <td>26711</td>\n",
       "      <td>Female</td>\n",
       "      <td>Missouri</td>\n",
       "      <td>48</td>\n",
       "      <td>1/1/2017</td>\n",
       "      <td>3</td>\n",
       "      <td>married</td>\n",
       "      <td>165665</td>\n",
       "      <td>6184</td>\n",
       "      <td>Clementines</td>\n",
       "      <td>...</td>\n",
       "      <td>Regularly busy</td>\n",
       "      <td>Most orders</td>\n",
       "      <td>8</td>\n",
       "      <td>New customer</td>\n",
       "      <td>7.988889</td>\n",
       "      <td>Low spender</td>\n",
       "      <td>19.0</td>\n",
       "      <td>Regular customer</td>\n",
       "      <td>Midwest</td>\n",
       "      <td>High Activity</td>\n",
       "    </tr>\n",
       "    <tr>\n",
       "      <th>4</th>\n",
       "      <td>26711</td>\n",
       "      <td>Female</td>\n",
       "      <td>Missouri</td>\n",
       "      <td>48</td>\n",
       "      <td>1/1/2017</td>\n",
       "      <td>3</td>\n",
       "      <td>married</td>\n",
       "      <td>165665</td>\n",
       "      <td>6184</td>\n",
       "      <td>Clementines</td>\n",
       "      <td>...</td>\n",
       "      <td>Slowest days</td>\n",
       "      <td>Most orders</td>\n",
       "      <td>8</td>\n",
       "      <td>New customer</td>\n",
       "      <td>7.988889</td>\n",
       "      <td>Low spender</td>\n",
       "      <td>19.0</td>\n",
       "      <td>Regular customer</td>\n",
       "      <td>Midwest</td>\n",
       "      <td>High Activity</td>\n",
       "    </tr>\n",
       "  </tbody>\n",
       "</table>\n",
       "<p>5 rows × 31 columns</p>\n",
       "</div>"
      ],
      "text/plain": [
       "   user_id  Gender     STATE  Age date_joined  number_of_dependants  \\\n",
       "0    26711  Female  Missouri   48    1/1/2017                     3   \n",
       "1    26711  Female  Missouri   48    1/1/2017                     3   \n",
       "2    26711  Female  Missouri   48    1/1/2017                     3   \n",
       "3    26711  Female  Missouri   48    1/1/2017                     3   \n",
       "4    26711  Female  Missouri   48    1/1/2017                     3   \n",
       "\n",
       "  marital_status  income  product_id product_name  ...    busiest_days  \\\n",
       "0        married  165665         196         Soda  ...    Busiest days   \n",
       "1        married  165665         196         Soda  ...  Regularly busy   \n",
       "2        married  165665         196         Soda  ...    Busiest days   \n",
       "3        married  165665        6184  Clementines  ...  Regularly busy   \n",
       "4        married  165665        6184  Clementines  ...    Slowest days   \n",
       "\n",
       "   busiest_period_of_day  max_order  loyalty_flag  mean_product_price  \\\n",
       "0            Most orders          8  New customer            7.988889   \n",
       "1            Most orders          8  New customer            7.988889   \n",
       "2            Most orders          8  New customer            7.988889   \n",
       "3            Most orders          8  New customer            7.988889   \n",
       "4            Most orders          8  New customer            7.988889   \n",
       "\n",
       "   spending_flag  median_days_between_orders   order_frequency   region  \\\n",
       "0    Low spender                        19.0  Regular customer  Midwest   \n",
       "1    Low spender                        19.0  Regular customer  Midwest   \n",
       "2    Low spender                        19.0  Regular customer  Midwest   \n",
       "3    Low spender                        19.0  Regular customer  Midwest   \n",
       "4    Low spender                        19.0  Regular customer  Midwest   \n",
       "\n",
       "   customer_activity_flag  \n",
       "0           High Activity  \n",
       "1           High Activity  \n",
       "2           High Activity  \n",
       "3           High Activity  \n",
       "4           High Activity  \n",
       "\n",
       "[5 rows x 31 columns]"
      ]
     },
     "execution_count": 36,
     "metadata": {},
     "output_type": "execute_result"
    }
   ],
   "source": [
    "#Check exclusion flag\n",
    "df.head(5)"
   ]
  },
  {
   "cell_type": "code",
   "execution_count": 37,
   "id": "e6de4c13-542d-4449-9dfd-7718e37b6a03",
   "metadata": {},
   "outputs": [],
   "source": [
    "#Customer_Activity_flag column appears in dataframe successfully"
   ]
  },
  {
   "cell_type": "code",
   "execution_count": 38,
   "id": "696c80da-36c9-4871-99ac-9d1669ce1927",
   "metadata": {},
   "outputs": [
    {
     "data": {
      "text/plain": [
       "customer_activity_flag\n",
       "High Activity    30964564\n",
       "Low Activity      1440295\n",
       "Name: count, dtype: int64"
      ]
     },
     "execution_count": 38,
     "metadata": {},
     "output_type": "execute_result"
    }
   ],
   "source": [
    "#Check frequency of new customer activity flag column\n",
    "df['customer_activity_flag'].value_counts(dropna=False)"
   ]
  },
  {
   "cell_type": "code",
   "execution_count": 39,
   "id": "a0d95010-252f-4a30-93b9-8f5dd182b2dc",
   "metadata": {},
   "outputs": [
    {
     "data": {
      "text/plain": [
       "(30964564, 31)"
      ]
     },
     "execution_count": 39,
     "metadata": {},
     "output_type": "execute_result"
    }
   ],
   "source": [
    "#Create separate dataframe for 'High Activity' customers, exluding the 'Low Activity' customers\n",
    "df_high_activity=df[df['customer_activity_flag']=='High Activity']\n",
    "\n",
    "#Check df_high_activity output\n",
    "df_high_activity.shape"
   ]
  },
  {
   "cell_type": "code",
   "execution_count": 40,
   "id": "3c05d6f3-2163-4b74-aaf5-0a84946c2de9",
   "metadata": {},
   "outputs": [],
   "source": [
    "#the total matches the total in the frequency count from line 83\n",
    "\n",
    "#Export df_high_activity dataframe\n",
    "df_high_activity.to_pickle(os.path.join(path,'02 Data','IC24 Prepared Data','instacart_combined_high_activity.pkl'))"
   ]
  },
  {
   "cell_type": "code",
   "execution_count": 41,
   "id": "bee121e4-1662-4398-9c49-8a71fa4b4483",
   "metadata": {},
   "outputs": [],
   "source": [
    "#Export updated dataframe that does not exclue low activity customers\n",
    "df.to_pickle(os.path.join(path,'02 Data','IC24 Prepared Data','instacart_combined_customer_activity.pkl'))"
   ]
  },
  {
   "cell_type": "markdown",
   "id": "57bf2705-602b-450b-aa78-3065ca4c1daf",
   "metadata": {},
   "source": [
    "### 5. Customer Profiling"
   ]
  },
  {
   "cell_type": "code",
   "execution_count": 43,
   "id": "b9ce0d26-bcbd-4be3-9130-bca59777e015",
   "metadata": {},
   "outputs": [],
   "source": [
    "#Create 'Age Group' columns to flag for 'Young Adult', 'Middle Age', or 'Senior'\n",
    "\n",
    "#Create young adult group\n",
    "df.loc[df['Age']<=30, 'age_group']= 'Young Adult'\n",
    "\n",
    "#Create middle age group\n",
    "df.loc[(df['Age']>30)&(df['Age']<=60),'age_group']='Middle Age'\n",
    "\n",
    "#Create senior group\n",
    "df.loc[df['Age']>60, 'age_group']= 'Senior'"
   ]
  },
  {
   "cell_type": "code",
   "execution_count": 44,
   "id": "d6ca0fbe-0532-4c92-be4e-3d30171a7112",
   "metadata": {},
   "outputs": [
    {
     "data": {
      "text/plain": [
       "age_group\n",
       "Middle Age     15222661\n",
       "Senior         10582839\n",
       "Young Adult     6599359\n",
       "Name: count, dtype: int64"
      ]
     },
     "execution_count": 44,
     "metadata": {},
     "output_type": "execute_result"
    }
   ],
   "source": [
    "#Check frequency\n",
    "df['age_group'].value_counts(dropna=False)"
   ]
  },
  {
   "cell_type": "code",
   "execution_count": 45,
   "id": "907b5640-0e31-43d0-a643-3b59bfcea472",
   "metadata": {},
   "outputs": [
    {
     "data": {
      "image/png": "[encoded data removed]",
      "text/plain": [
       "<Figure size 800x800 with 1 Axes>"
      ]
     },
     "metadata": {},
     "output_type": "display_data"
    }
   ],
   "source": [
    "#Create pie chart of the age groups\n",
    "\n",
    "age_group_counts = df['age_group'].value_counts()\n",
    "plt.figure(figsize=(8,8))\n",
    "age_group_pie_chart=age_group_counts.plot.pie(labels=('Middle-Age Adult: Between 31 to 60 Years of Age','Senior: Over 60 Years of Age','Young Adult:30 Years of Age or Younger'), \n",
    "                          autopct='%.1f%%',\n",
    "                          wedgeprops={'edgecolor':'black'})\n",
    "plt.title('Age Group Distribution')\n",
    "plt.ylabel('')\n",
    "plt.tight_layout()\n",
    "plt.show()"
   ]
  },
  {
   "cell_type": "markdown",
   "id": "b74a8522-9e1e-4ba7-aca3-e686437ea972",
   "metadata": {},
   "source": [
    "**Observations:**\n",
    "\n",
    "- The majority of Instacart customers fall within the Middle Age group\n",
    "- Seniors make up the second-largest group\n",
    "- Young Adults make up the smallest portion of Instacart customers\n",
    "\n",
    "**Notes for Further Analysis:**\n",
    "\n",
    "- Young Adults may not make as much money. \n",
    "- Middle Age customers may be using Instacart to support families, or dependants.\n",
    "- Young Adults may not need as much groceries, if not married and do not have dependents."
   ]
  },
  {
   "cell_type": "code",
   "execution_count": 47,
   "id": "a167efe4-4be5-4ada-987a-9fd08968af10",
   "metadata": {},
   "outputs": [],
   "source": [
    "#Export pie chart\n",
    "age_group_pie_chart.figure.savefig(os.path.join(path,'04 Analysis','Visualizations','age_group_distribution_pie_chart.png'))"
   ]
  },
  {
   "cell_type": "markdown",
   "id": "8667f1ef-1b63-4f56-b6a6-0b94f76db69f",
   "metadata": {},
   "source": [
    "### 6. Customer Profiling by Income"
   ]
  },
  {
   "cell_type": "code",
   "execution_count": 49,
   "id": "00131089-d29b-446b-ad95-f688e7e6b904",
   "metadata": {},
   "outputs": [
    {
     "data": {
      "text/plain": [
       "count    3.240486e+07\n",
       "mean     9.943773e+04\n",
       "std      4.305727e+04\n",
       "min      2.590300e+04\n",
       "25%      6.700400e+04\n",
       "50%      9.661800e+04\n",
       "75%      1.279120e+05\n",
       "max      5.939010e+05\n",
       "Name: income, dtype: float64"
      ]
     },
     "execution_count": 49,
     "metadata": {},
     "output_type": "execute_result"
    }
   ],
   "source": [
    "#Print income statistics\n",
    "df['income'].describe()"
   ]
  },
  {
   "cell_type": "code",
   "execution_count": 50,
   "id": "935d9aca-9628-4edc-9192-033983a249f6",
   "metadata": {},
   "outputs": [
    {
     "data": {
      "text/plain": [
       "Text(0.5, 1.0, 'Customer Income Levels')"
      ]
     },
     "execution_count": 50,
     "metadata": {},
     "output_type": "execute_result"
    },
    {
     "data": {
      "image/png": "[encoded data removed]",
      "text/plain": [
       "<Figure size 640x480 with 1 Axes>"
      ]
     },
     "metadata": {},
     "output_type": "display_data"
    }
   ],
   "source": [
    "#Create histogram of income column, use 26 as bin, assuming 26 biweekly pay periods per year\n",
    "df['income'].plot.hist(bins=26)\n",
    "# Add a title\n",
    "plt.title('Customer Income Levels')"
   ]
  },
  {
   "cell_type": "code",
   "execution_count": 51,
   "id": "7f0320e0-22c1-4f0e-a77c-711f760f5e75",
   "metadata": {},
   "outputs": [],
   "source": [
    "#Create income level groups\n",
    "\n",
    "#Create low income group for incomes less than or equal to $65,000\n",
    "df.loc[df['income']<=65000,'income_level']='Low Income'\n",
    "\n",
    "#Create middle income group for incomes greater than $65,000 and less than or equal to $130,000\n",
    "df.loc[df['income']>65000 & (df['income']<= 1300000), 'income_level']='Middle Income'\n",
    "\n",
    "#Create high income group for incomes greater than $130,000\n",
    "df.loc[df['income']>130000, 'income_level'] = 'High Income'"
   ]
  },
  {
   "cell_type": "code",
   "execution_count": 52,
   "id": "3188f64f-c2f3-468d-b533-75eaa2cecfeb",
   "metadata": {},
   "outputs": [
    {
     "data": {
      "text/plain": [
       "income_level\n",
       "Middle Income    24691331\n",
       "High Income       7713528\n",
       "Name: count, dtype: int64"
      ]
     },
     "execution_count": 52,
     "metadata": {},
     "output_type": "execute_result"
    }
   ],
   "source": [
    "#Check Frequency\n",
    "df['income_level'].value_counts()"
   ]
  },
  {
   "cell_type": "code",
   "execution_count": 53,
   "id": "74794ff9-db72-4cdc-a089-08ed228fee1c",
   "metadata": {},
   "outputs": [
    {
     "name": "stdout",
     "output_type": "stream",
     "text": [
      "income_level\n",
      "Middle Income    17170138\n",
      "High Income       7713528\n",
      "Low Income        7521193\n",
      "Name: count, dtype: int64\n"
     ]
    }
   ],
   "source": [
    "#Low Income group not appearing. Will retype below ensuring no typing errrors.\n",
    "\n",
    "# Create income level groups\n",
    "# Create low income group for incomes less than or equal to $65,000\n",
    "df.loc[df['income'] <= 65000, 'income_level'] = 'Low Income'\n",
    "\n",
    "# Create middle income group for incomes greater than $65,000 and less than or equal to $130,000\n",
    "df.loc[(df['income'] > 65000) & (df['income'] <= 130000), 'income_level'] = 'Middle Income'\n",
    "\n",
    "# Create high income group for incomes greater than $130,000\n",
    "df.loc[df['income'] > 130000, 'income_level'] = 'High Income'\n",
    "\n",
    "# Print the frequency for each income level group\n",
    "frequency = df['income_level'].value_counts()\n",
    "print(frequency)"
   ]
  },
  {
   "cell_type": "code",
   "execution_count": 54,
   "id": "4ee3be0f-5a8f-40e2-a157-cae3eec9eba0",
   "metadata": {},
   "outputs": [],
   "source": [
    "#Low Income group now appears, coded groups income level successfully"
   ]
  },
  {
   "cell_type": "code",
   "execution_count": 55,
   "id": "ddde8881-0999-4221-8feb-98b9af65f49a",
   "metadata": {},
   "outputs": [
    {
     "data": {
      "image/png": "[encoded data removed]",
      "text/plain": [
       "<Figure size 600x600 with 1 Axes>"
      ]
     },
     "metadata": {},
     "output_type": "display_data"
    }
   ],
   "source": [
    "#Create pie chart of income levels\n",
    "income_level_counts = df['income_level'].value_counts()\n",
    "plt.figure(figsize=(6,6))\n",
    "income_level_pie_chart=income_level_counts.plot.pie(autopct='%1.1f%%',wedgeprops={'edgecolor':'black'})\n",
    "plt.title('Distribution of Income Levels ')\n",
    "plt.ylabel('')\n",
    "plt.tight_layout()\n",
    "plt.show()"
   ]
  },
  {
   "cell_type": "code",
   "execution_count": 56,
   "id": "81112fd4-e449-497e-afa2-0e59292f0af1",
   "metadata": {},
   "outputs": [],
   "source": [
    "#Export Income Level Pie Chart\n",
    "income_level_pie_chart.figure.savefig(os.path.join(path,'04 Analysis','Visualizations','income_levels_pie.png'))"
   ]
  },
  {
   "cell_type": "markdown",
   "id": "24be5a90-8329-4229-aea4-b1aa0ccafe5d",
   "metadata": {},
   "source": [
    "**Observations:**\n",
    "\n",
    "- Majority of customers are within the Middle Income level\n",
    "- The High Income level accounts for slightly more of the customers than Low Income level"
   ]
  },
  {
   "cell_type": "markdown",
   "id": "83832f6f-1cee-4ac3-be05-40eaf93b59f3",
   "metadata": {},
   "source": [
    "### 7. Customer Profiling by Dependants"
   ]
  },
  {
   "cell_type": "code",
   "execution_count": 59,
   "id": "0cab74a7-b7b6-4669-ab88-2d745fa3624b",
   "metadata": {},
   "outputs": [
    {
     "data": {
      "text/plain": [
       "count    3.240486e+07\n",
       "mean     1.501896e+00\n",
       "std      1.118865e+00\n",
       "min      0.000000e+00\n",
       "25%      1.000000e+00\n",
       "50%      2.000000e+00\n",
       "75%      3.000000e+00\n",
       "max      3.000000e+00\n",
       "Name: number_of_dependants, dtype: float64"
      ]
     },
     "execution_count": 59,
     "metadata": {},
     "output_type": "execute_result"
    }
   ],
   "source": [
    "#print statistics of dependents\n",
    "df['number_of_dependants'].describe()"
   ]
  },
  {
   "cell_type": "code",
   "execution_count": 60,
   "id": "abedaf57-891f-4d7b-ac3e-cd91d98d9d45",
   "metadata": {},
   "outputs": [],
   "source": [
    "#Create groups based on dependants\n",
    "\n",
    "#Create 'dependants' group for any value over 0\n",
    "df.loc[df['number_of_dependants'] > 0, 'dependants_status'] = 'has dependants'\n",
    "\n",
    "#Create 'no dependants' group for values less than 1\n",
    "df.loc[df['number_of_dependants'] <= 0, 'dependants_status'] = 'no dependants'"
   ]
  },
  {
   "cell_type": "code",
   "execution_count": 61,
   "id": "92b2f11f-8706-4809-83dd-dfe148f83707",
   "metadata": {},
   "outputs": [
    {
     "data": {
      "text/plain": [
       "dependants_status\n",
       "has dependants    24307356\n",
       "no dependants      8097503\n",
       "Name: count, dtype: int64"
      ]
     },
     "execution_count": 61,
     "metadata": {},
     "output_type": "execute_result"
    }
   ],
   "source": [
    "#check frequency\n",
    "df['dependants_status'].value_counts(dropna=False)"
   ]
  },
  {
   "cell_type": "code",
   "execution_count": 62,
   "id": "cb12890c-262c-44e4-844c-a49f58d2b8ab",
   "metadata": {},
   "outputs": [
    {
     "data": {
      "text/plain": [
       "Text(0.5, 1.0, 'Dependants Status')"
      ]
     },
     "execution_count": 62,
     "metadata": {},
     "output_type": "execute_result"
    },
    {
     "data": {
      "image/png": "[encoded data removed]",
      "text/plain": [
       "<Figure size 640x480 with 1 Axes>"
      ]
     },
     "metadata": {},
     "output_type": "display_data"
    }
   ],
   "source": [
    "#create bar chart\n",
    "dependants_status_bar=df['dependants_status'].value_counts().plot.bar()\n",
    "# Add a title\n",
    "plt.title('Dependants Status')"
   ]
  },
  {
   "cell_type": "code",
   "execution_count": 63,
   "id": "971169c2-670e-4015-acc2-025c35daaf33",
   "metadata": {},
   "outputs": [],
   "source": [
    "#Export Dependants Groups Bar Chart\n",
    "dependants_status_bar.figure.savefig(os.path.join(path,'04 Analysis','Visualizations','dependants_status_bar.png'))"
   ]
  },
  {
   "cell_type": "code",
   "execution_count": 64,
   "id": "7897c94f-1d7a-43e9-b68b-d4473c687d5d",
   "metadata": {
    "scrolled": true
   },
   "outputs": [
    {
     "data": {
      "text/plain": [
       "Text(0.5, 1.0, 'Dependants Status Distribution')"
      ]
     },
     "execution_count": 64,
     "metadata": {},
     "output_type": "execute_result"
    },
    {
     "data": {
      "image/png": "[encoded data removed]",
      "text/plain": [
       "<Figure size 640x480 with 1 Axes>"
      ]
     },
     "metadata": {},
     "output_type": "display_data"
    }
   ],
   "source": [
    "#create pie chart\n",
    "dependants_status_pie=df['dependants_status'].value_counts().plot.pie(\n",
    "    autopct='%1.1f%%',  \n",
    "    startangle=90,     \n",
    "    counterclock=False, \n",
    "    labels=df['dependants_status'].value_counts().index, \n",
    "    wedgeprops={'edgecolor': 'black'})\n",
    "\n",
    "# Add a title\n",
    "plt.title('Dependants Status Distribution')"
   ]
  },
  {
   "cell_type": "code",
   "execution_count": 65,
   "id": "a69d1542-af09-46f4-803c-ec383e1e6b95",
   "metadata": {},
   "outputs": [],
   "source": [
    "#Export Dependants Groups Pie Chart\n",
    "dependants_status_pie.figure.savefig(os.path.join(path,'04 Analysis','Visualizations','dependants_status_pie.png'))"
   ]
  },
  {
   "cell_type": "markdown",
   "id": "f853383d-de72-4a6a-a85c-1be4b7501785",
   "metadata": {},
   "source": [
    "### 8. Match Department_id with Appropriate Department Name"
   ]
  },
  {
   "cell_type": "code",
   "execution_count": 67,
   "id": "58e672cd-7007-409e-8ee9-ec14532493d2",
   "metadata": {},
   "outputs": [],
   "source": [
    "#Import names of departments\n",
    "df_dept = pd.read_csv(os.path.join(path, '02 Data', 'IC24 Prepared Data', 'departments_wrangled.csv'))"
   ]
  },
  {
   "cell_type": "code",
   "execution_count": 68,
   "id": "6a92bd89-cf63-42cb-a231-a3851042cd50",
   "metadata": {},
   "outputs": [
    {
     "data": {
      "text/html": [
       "<div>\n",
       "<style scoped>\n",
       "    .dataframe tbody tr th:only-of-type {\n",
       "        vertical-align: middle;\n",
       "    }\n",
       "\n",
       "    .dataframe tbody tr th {\n",
       "        vertical-align: top;\n",
       "    }\n",
       "\n",
       "    .dataframe thead th {\n",
       "        text-align: right;\n",
       "    }\n",
       "</style>\n",
       "<table border=\"1\" class=\"dataframe\">\n",
       "  <thead>\n",
       "    <tr style=\"text-align: right;\">\n",
       "      <th></th>\n",
       "      <th>department_id</th>\n",
       "      <th>department</th>\n",
       "    </tr>\n",
       "  </thead>\n",
       "  <tbody>\n",
       "    <tr>\n",
       "      <th>0</th>\n",
       "      <td>1</td>\n",
       "      <td>frozen</td>\n",
       "    </tr>\n",
       "    <tr>\n",
       "      <th>1</th>\n",
       "      <td>2</td>\n",
       "      <td>other</td>\n",
       "    </tr>\n",
       "    <tr>\n",
       "      <th>2</th>\n",
       "      <td>3</td>\n",
       "      <td>bakery</td>\n",
       "    </tr>\n",
       "    <tr>\n",
       "      <th>3</th>\n",
       "      <td>4</td>\n",
       "      <td>produce</td>\n",
       "    </tr>\n",
       "    <tr>\n",
       "      <th>4</th>\n",
       "      <td>5</td>\n",
       "      <td>alcohol</td>\n",
       "    </tr>\n",
       "    <tr>\n",
       "      <th>5</th>\n",
       "      <td>6</td>\n",
       "      <td>international</td>\n",
       "    </tr>\n",
       "    <tr>\n",
       "      <th>6</th>\n",
       "      <td>7</td>\n",
       "      <td>beverages</td>\n",
       "    </tr>\n",
       "    <tr>\n",
       "      <th>7</th>\n",
       "      <td>8</td>\n",
       "      <td>pets</td>\n",
       "    </tr>\n",
       "    <tr>\n",
       "      <th>8</th>\n",
       "      <td>9</td>\n",
       "      <td>dry goods pasta</td>\n",
       "    </tr>\n",
       "    <tr>\n",
       "      <th>9</th>\n",
       "      <td>10</td>\n",
       "      <td>bulk</td>\n",
       "    </tr>\n",
       "    <tr>\n",
       "      <th>10</th>\n",
       "      <td>11</td>\n",
       "      <td>personal care</td>\n",
       "    </tr>\n",
       "    <tr>\n",
       "      <th>11</th>\n",
       "      <td>12</td>\n",
       "      <td>meat seafood</td>\n",
       "    </tr>\n",
       "    <tr>\n",
       "      <th>12</th>\n",
       "      <td>13</td>\n",
       "      <td>pantry</td>\n",
       "    </tr>\n",
       "    <tr>\n",
       "      <th>13</th>\n",
       "      <td>14</td>\n",
       "      <td>breakfast</td>\n",
       "    </tr>\n",
       "    <tr>\n",
       "      <th>14</th>\n",
       "      <td>15</td>\n",
       "      <td>canned goods</td>\n",
       "    </tr>\n",
       "    <tr>\n",
       "      <th>15</th>\n",
       "      <td>16</td>\n",
       "      <td>dairy eggs</td>\n",
       "    </tr>\n",
       "    <tr>\n",
       "      <th>16</th>\n",
       "      <td>17</td>\n",
       "      <td>household</td>\n",
       "    </tr>\n",
       "    <tr>\n",
       "      <th>17</th>\n",
       "      <td>18</td>\n",
       "      <td>babies</td>\n",
       "    </tr>\n",
       "    <tr>\n",
       "      <th>18</th>\n",
       "      <td>19</td>\n",
       "      <td>snacks</td>\n",
       "    </tr>\n",
       "    <tr>\n",
       "      <th>19</th>\n",
       "      <td>20</td>\n",
       "      <td>deli</td>\n",
       "    </tr>\n",
       "    <tr>\n",
       "      <th>20</th>\n",
       "      <td>21</td>\n",
       "      <td>missing</td>\n",
       "    </tr>\n",
       "  </tbody>\n",
       "</table>\n",
       "</div>"
      ],
      "text/plain": [
       "    department_id       department\n",
       "0               1           frozen\n",
       "1               2            other\n",
       "2               3           bakery\n",
       "3               4          produce\n",
       "4               5          alcohol\n",
       "5               6    international\n",
       "6               7        beverages\n",
       "7               8             pets\n",
       "8               9  dry goods pasta\n",
       "9              10             bulk\n",
       "10             11    personal care\n",
       "11             12     meat seafood\n",
       "12             13           pantry\n",
       "13             14        breakfast\n",
       "14             15     canned goods\n",
       "15             16       dairy eggs\n",
       "16             17        household\n",
       "17             18           babies\n",
       "18             19           snacks\n",
       "19             20             deli\n",
       "20             21          missing"
      ]
     },
     "execution_count": 68,
     "metadata": {},
     "output_type": "execute_result"
    }
   ],
   "source": [
    "#print names of departments\n",
    "df_dept"
   ]
  },
  {
   "cell_type": "code",
   "execution_count": 69,
   "id": "96cad471-902e-45c3-9540-4ef2001190b2",
   "metadata": {},
   "outputs": [
    {
     "data": {
      "text/plain": [
       "{1: 'frozen',\n",
       " 2: 'other',\n",
       " 3: 'bakery',\n",
       " 4: 'produce',\n",
       " 5: 'alcohol',\n",
       " 6: 'international',\n",
       " 7: 'beverages',\n",
       " 8: 'pets',\n",
       " 9: 'dry goods pasta',\n",
       " 10: 'bulk',\n",
       " 11: 'personal care',\n",
       " 12: 'meat seafood',\n",
       " 13: 'pantry',\n",
       " 14: 'breakfast',\n",
       " 15: 'canned goods',\n",
       " 16: 'dairy eggs',\n",
       " 17: 'household',\n",
       " 18: 'babies',\n",
       " 19: 'snacks',\n",
       " 20: 'deli',\n",
       " 21: 'missing'}"
      ]
     },
     "execution_count": 69,
     "metadata": {},
     "output_type": "execute_result"
    }
   ],
   "source": [
    "#Create data dictionary\n",
    "\n",
    "zipped=zip(df_dept['department_id'], df_dept['department'])\n",
    "data_dict=dict(zipped)\n",
    "data_dict"
   ]
  },
  {
   "cell_type": "code",
   "execution_count": 70,
   "id": "28422868-fb17-47f2-be3b-24d1e067fcc5",
   "metadata": {},
   "outputs": [],
   "source": [
    "#Match department names with appropriate department_id in dataframe\n",
    "\n",
    "df['department'] = df['department_id'].map(data_dict)"
   ]
  },
  {
   "cell_type": "code",
   "execution_count": 71,
   "id": "709fa185-0857-4828-b98d-c1c1ee1216c3",
   "metadata": {},
   "outputs": [
    {
     "data": {
      "text/html": [
       "<div>\n",
       "<style scoped>\n",
       "    .dataframe tbody tr th:only-of-type {\n",
       "        vertical-align: middle;\n",
       "    }\n",
       "\n",
       "    .dataframe tbody tr th {\n",
       "        vertical-align: top;\n",
       "    }\n",
       "\n",
       "    .dataframe thead th {\n",
       "        text-align: right;\n",
       "    }\n",
       "</style>\n",
       "<table border=\"1\" class=\"dataframe\">\n",
       "  <thead>\n",
       "    <tr style=\"text-align: right;\">\n",
       "      <th></th>\n",
       "      <th>user_id</th>\n",
       "      <th>Gender</th>\n",
       "      <th>STATE</th>\n",
       "      <th>Age</th>\n",
       "      <th>date_joined</th>\n",
       "      <th>number_of_dependants</th>\n",
       "      <th>marital_status</th>\n",
       "      <th>income</th>\n",
       "      <th>product_id</th>\n",
       "      <th>product_name</th>\n",
       "      <th>...</th>\n",
       "      <th>mean_product_price</th>\n",
       "      <th>spending_flag</th>\n",
       "      <th>median_days_between_orders</th>\n",
       "      <th>order_frequency</th>\n",
       "      <th>region</th>\n",
       "      <th>customer_activity_flag</th>\n",
       "      <th>age_group</th>\n",
       "      <th>income_level</th>\n",
       "      <th>dependants_status</th>\n",
       "      <th>department</th>\n",
       "    </tr>\n",
       "  </thead>\n",
       "  <tbody>\n",
       "    <tr>\n",
       "      <th>0</th>\n",
       "      <td>26711</td>\n",
       "      <td>Female</td>\n",
       "      <td>Missouri</td>\n",
       "      <td>48</td>\n",
       "      <td>1/1/2017</td>\n",
       "      <td>3</td>\n",
       "      <td>married</td>\n",
       "      <td>165665</td>\n",
       "      <td>196</td>\n",
       "      <td>Soda</td>\n",
       "      <td>...</td>\n",
       "      <td>7.988889</td>\n",
       "      <td>Low spender</td>\n",
       "      <td>19.0</td>\n",
       "      <td>Regular customer</td>\n",
       "      <td>Midwest</td>\n",
       "      <td>High Activity</td>\n",
       "      <td>Middle Age</td>\n",
       "      <td>High Income</td>\n",
       "      <td>has dependants</td>\n",
       "      <td>beverages</td>\n",
       "    </tr>\n",
       "    <tr>\n",
       "      <th>1</th>\n",
       "      <td>26711</td>\n",
       "      <td>Female</td>\n",
       "      <td>Missouri</td>\n",
       "      <td>48</td>\n",
       "      <td>1/1/2017</td>\n",
       "      <td>3</td>\n",
       "      <td>married</td>\n",
       "      <td>165665</td>\n",
       "      <td>196</td>\n",
       "      <td>Soda</td>\n",
       "      <td>...</td>\n",
       "      <td>7.988889</td>\n",
       "      <td>Low spender</td>\n",
       "      <td>19.0</td>\n",
       "      <td>Regular customer</td>\n",
       "      <td>Midwest</td>\n",
       "      <td>High Activity</td>\n",
       "      <td>Middle Age</td>\n",
       "      <td>High Income</td>\n",
       "      <td>has dependants</td>\n",
       "      <td>beverages</td>\n",
       "    </tr>\n",
       "    <tr>\n",
       "      <th>2</th>\n",
       "      <td>26711</td>\n",
       "      <td>Female</td>\n",
       "      <td>Missouri</td>\n",
       "      <td>48</td>\n",
       "      <td>1/1/2017</td>\n",
       "      <td>3</td>\n",
       "      <td>married</td>\n",
       "      <td>165665</td>\n",
       "      <td>196</td>\n",
       "      <td>Soda</td>\n",
       "      <td>...</td>\n",
       "      <td>7.988889</td>\n",
       "      <td>Low spender</td>\n",
       "      <td>19.0</td>\n",
       "      <td>Regular customer</td>\n",
       "      <td>Midwest</td>\n",
       "      <td>High Activity</td>\n",
       "      <td>Middle Age</td>\n",
       "      <td>High Income</td>\n",
       "      <td>has dependants</td>\n",
       "      <td>beverages</td>\n",
       "    </tr>\n",
       "    <tr>\n",
       "      <th>3</th>\n",
       "      <td>26711</td>\n",
       "      <td>Female</td>\n",
       "      <td>Missouri</td>\n",
       "      <td>48</td>\n",
       "      <td>1/1/2017</td>\n",
       "      <td>3</td>\n",
       "      <td>married</td>\n",
       "      <td>165665</td>\n",
       "      <td>6184</td>\n",
       "      <td>Clementines</td>\n",
       "      <td>...</td>\n",
       "      <td>7.988889</td>\n",
       "      <td>Low spender</td>\n",
       "      <td>19.0</td>\n",
       "      <td>Regular customer</td>\n",
       "      <td>Midwest</td>\n",
       "      <td>High Activity</td>\n",
       "      <td>Middle Age</td>\n",
       "      <td>High Income</td>\n",
       "      <td>has dependants</td>\n",
       "      <td>produce</td>\n",
       "    </tr>\n",
       "    <tr>\n",
       "      <th>4</th>\n",
       "      <td>26711</td>\n",
       "      <td>Female</td>\n",
       "      <td>Missouri</td>\n",
       "      <td>48</td>\n",
       "      <td>1/1/2017</td>\n",
       "      <td>3</td>\n",
       "      <td>married</td>\n",
       "      <td>165665</td>\n",
       "      <td>6184</td>\n",
       "      <td>Clementines</td>\n",
       "      <td>...</td>\n",
       "      <td>7.988889</td>\n",
       "      <td>Low spender</td>\n",
       "      <td>19.0</td>\n",
       "      <td>Regular customer</td>\n",
       "      <td>Midwest</td>\n",
       "      <td>High Activity</td>\n",
       "      <td>Middle Age</td>\n",
       "      <td>High Income</td>\n",
       "      <td>has dependants</td>\n",
       "      <td>produce</td>\n",
       "    </tr>\n",
       "  </tbody>\n",
       "</table>\n",
       "<p>5 rows × 35 columns</p>\n",
       "</div>"
      ],
      "text/plain": [
       "   user_id  Gender     STATE  Age date_joined  number_of_dependants  \\\n",
       "0    26711  Female  Missouri   48    1/1/2017                     3   \n",
       "1    26711  Female  Missouri   48    1/1/2017                     3   \n",
       "2    26711  Female  Missouri   48    1/1/2017                     3   \n",
       "3    26711  Female  Missouri   48    1/1/2017                     3   \n",
       "4    26711  Female  Missouri   48    1/1/2017                     3   \n",
       "\n",
       "  marital_status  income  product_id product_name  ...  mean_product_price  \\\n",
       "0        married  165665         196         Soda  ...            7.988889   \n",
       "1        married  165665         196         Soda  ...            7.988889   \n",
       "2        married  165665         196         Soda  ...            7.988889   \n",
       "3        married  165665        6184  Clementines  ...            7.988889   \n",
       "4        married  165665        6184  Clementines  ...            7.988889   \n",
       "\n",
       "   spending_flag  median_days_between_orders   order_frequency   region  \\\n",
       "0    Low spender                        19.0  Regular customer  Midwest   \n",
       "1    Low spender                        19.0  Regular customer  Midwest   \n",
       "2    Low spender                        19.0  Regular customer  Midwest   \n",
       "3    Low spender                        19.0  Regular customer  Midwest   \n",
       "4    Low spender                        19.0  Regular customer  Midwest   \n",
       "\n",
       "   customer_activity_flag   age_group  income_level  dependants_status  \\\n",
       "0           High Activity  Middle Age   High Income     has dependants   \n",
       "1           High Activity  Middle Age   High Income     has dependants   \n",
       "2           High Activity  Middle Age   High Income     has dependants   \n",
       "3           High Activity  Middle Age   High Income     has dependants   \n",
       "4           High Activity  Middle Age   High Income     has dependants   \n",
       "\n",
       "   department  \n",
       "0   beverages  \n",
       "1   beverages  \n",
       "2   beverages  \n",
       "3     produce  \n",
       "4     produce  \n",
       "\n",
       "[5 rows x 35 columns]"
      ]
     },
     "execution_count": 71,
     "metadata": {},
     "output_type": "execute_result"
    }
   ],
   "source": [
    "#Check output\n",
    "df.head(5)"
   ]
  },
  {
   "cell_type": "code",
   "execution_count": 72,
   "id": "d70c7b5e-ffbb-478f-a3d0-90fba646c18d",
   "metadata": {},
   "outputs": [],
   "source": [
    "#Department column added successfully"
   ]
  },
  {
   "cell_type": "code",
   "execution_count": 73,
   "id": "663d2a1a-f667-4b13-b07e-44cffa3303ba",
   "metadata": {},
   "outputs": [
    {
     "data": {
      "text/plain": [
       "department\n",
       "produce            9479291\n",
       "dairy eggs         5398747\n",
       "snacks             2887550\n",
       "beverages          2688123\n",
       "frozen             2234743\n",
       "pantry             1875369\n",
       "bakery             1172428\n",
       "canned goods       1068058\n",
       "deli               1051249\n",
       "dry goods pasta     866627\n",
       "household           738666\n",
       "meat seafood        708927\n",
       "breakfast           703033\n",
       "personal care       447572\n",
       "babies              423802\n",
       "international       269253\n",
       "alcohol             153696\n",
       "pets                 97716\n",
       "missing              69145\n",
       "other                36291\n",
       "bulk                 34573\n",
       "Name: count, dtype: int64"
      ]
     },
     "execution_count": 73,
     "metadata": {},
     "output_type": "execute_result"
    }
   ],
   "source": [
    "df['department'].value_counts()"
   ]
  },
  {
   "cell_type": "markdown",
   "id": "0be606c2-4cbb-43ba-a3f9-ffc64d23f380",
   "metadata": {},
   "source": [
    "### 9. Customer Profiling Based on Departments"
   ]
  },
  {
   "cell_type": "code",
   "execution_count": 75,
   "id": "8446aaaa-6c77-4c76-82b6-acf01dc2ac0d",
   "metadata": {},
   "outputs": [],
   "source": [
    "#Create crosstab of department and age_group\n",
    "department_by_age_crosstab=pd.crosstab(df['department'], df['age_group'], dropna=False)"
   ]
  },
  {
   "cell_type": "code",
   "execution_count": 76,
   "id": "9ab24dcc-1c0b-47f1-ad58-76675d48ec9b",
   "metadata": {},
   "outputs": [
    {
     "data": {
      "text/html": [
       "<div>\n",
       "<style scoped>\n",
       "    .dataframe tbody tr th:only-of-type {\n",
       "        vertical-align: middle;\n",
       "    }\n",
       "\n",
       "    .dataframe tbody tr th {\n",
       "        vertical-align: top;\n",
       "    }\n",
       "\n",
       "    .dataframe thead th {\n",
       "        text-align: right;\n",
       "    }\n",
       "</style>\n",
       "<table border=\"1\" class=\"dataframe\">\n",
       "  <thead>\n",
       "    <tr style=\"text-align: right;\">\n",
       "      <th>age_group</th>\n",
       "      <th>Middle Age</th>\n",
       "      <th>Senior</th>\n",
       "      <th>Young Adult</th>\n",
       "    </tr>\n",
       "    <tr>\n",
       "      <th>department</th>\n",
       "      <th></th>\n",
       "      <th></th>\n",
       "      <th></th>\n",
       "    </tr>\n",
       "  </thead>\n",
       "  <tbody>\n",
       "    <tr>\n",
       "      <th>alcohol</th>\n",
       "      <td>72768</td>\n",
       "      <td>48533</td>\n",
       "      <td>32395</td>\n",
       "    </tr>\n",
       "    <tr>\n",
       "      <th>babies</th>\n",
       "      <td>199807</td>\n",
       "      <td>137024</td>\n",
       "      <td>86971</td>\n",
       "    </tr>\n",
       "    <tr>\n",
       "      <th>bakery</th>\n",
       "      <td>551338</td>\n",
       "      <td>382711</td>\n",
       "      <td>238379</td>\n",
       "    </tr>\n",
       "    <tr>\n",
       "      <th>beverages</th>\n",
       "      <td>1262242</td>\n",
       "      <td>883000</td>\n",
       "      <td>542881</td>\n",
       "    </tr>\n",
       "    <tr>\n",
       "      <th>breakfast</th>\n",
       "      <td>330643</td>\n",
       "      <td>228137</td>\n",
       "      <td>144253</td>\n",
       "    </tr>\n",
       "    <tr>\n",
       "      <th>bulk</th>\n",
       "      <td>16116</td>\n",
       "      <td>11291</td>\n",
       "      <td>7166</td>\n",
       "    </tr>\n",
       "    <tr>\n",
       "      <th>canned goods</th>\n",
       "      <td>500302</td>\n",
       "      <td>347829</td>\n",
       "      <td>219927</td>\n",
       "    </tr>\n",
       "    <tr>\n",
       "      <th>dairy eggs</th>\n",
       "      <td>2537338</td>\n",
       "      <td>1760012</td>\n",
       "      <td>1101397</td>\n",
       "    </tr>\n",
       "    <tr>\n",
       "      <th>deli</th>\n",
       "      <td>493460</td>\n",
       "      <td>344391</td>\n",
       "      <td>213398</td>\n",
       "    </tr>\n",
       "    <tr>\n",
       "      <th>dry goods pasta</th>\n",
       "      <td>406095</td>\n",
       "      <td>282125</td>\n",
       "      <td>178407</td>\n",
       "    </tr>\n",
       "    <tr>\n",
       "      <th>frozen</th>\n",
       "      <td>1046012</td>\n",
       "      <td>734262</td>\n",
       "      <td>454469</td>\n",
       "    </tr>\n",
       "    <tr>\n",
       "      <th>household</th>\n",
       "      <td>346006</td>\n",
       "      <td>242883</td>\n",
       "      <td>149777</td>\n",
       "    </tr>\n",
       "    <tr>\n",
       "      <th>international</th>\n",
       "      <td>126897</td>\n",
       "      <td>86939</td>\n",
       "      <td>55417</td>\n",
       "    </tr>\n",
       "    <tr>\n",
       "      <th>meat seafood</th>\n",
       "      <td>331386</td>\n",
       "      <td>233547</td>\n",
       "      <td>143994</td>\n",
       "    </tr>\n",
       "    <tr>\n",
       "      <th>missing</th>\n",
       "      <td>32360</td>\n",
       "      <td>22176</td>\n",
       "      <td>14609</td>\n",
       "    </tr>\n",
       "    <tr>\n",
       "      <th>other</th>\n",
       "      <td>16850</td>\n",
       "      <td>11702</td>\n",
       "      <td>7739</td>\n",
       "    </tr>\n",
       "    <tr>\n",
       "      <th>pantry</th>\n",
       "      <td>882124</td>\n",
       "      <td>612304</td>\n",
       "      <td>380941</td>\n",
       "    </tr>\n",
       "    <tr>\n",
       "      <th>personal care</th>\n",
       "      <td>211111</td>\n",
       "      <td>145208</td>\n",
       "      <td>91253</td>\n",
       "    </tr>\n",
       "    <tr>\n",
       "      <th>pets</th>\n",
       "      <td>44978</td>\n",
       "      <td>32130</td>\n",
       "      <td>20608</td>\n",
       "    </tr>\n",
       "    <tr>\n",
       "      <th>produce</th>\n",
       "      <td>4457778</td>\n",
       "      <td>3096619</td>\n",
       "      <td>1924894</td>\n",
       "    </tr>\n",
       "    <tr>\n",
       "      <th>snacks</th>\n",
       "      <td>1357050</td>\n",
       "      <td>940016</td>\n",
       "      <td>590484</td>\n",
       "    </tr>\n",
       "  </tbody>\n",
       "</table>\n",
       "</div>"
      ],
      "text/plain": [
       "age_group        Middle Age   Senior  Young Adult\n",
       "department                                       \n",
       "alcohol               72768    48533        32395\n",
       "babies               199807   137024        86971\n",
       "bakery               551338   382711       238379\n",
       "beverages           1262242   883000       542881\n",
       "breakfast            330643   228137       144253\n",
       "bulk                  16116    11291         7166\n",
       "canned goods         500302   347829       219927\n",
       "dairy eggs          2537338  1760012      1101397\n",
       "deli                 493460   344391       213398\n",
       "dry goods pasta      406095   282125       178407\n",
       "frozen              1046012   734262       454469\n",
       "household            346006   242883       149777\n",
       "international        126897    86939        55417\n",
       "meat seafood         331386   233547       143994\n",
       "missing               32360    22176        14609\n",
       "other                 16850    11702         7739\n",
       "pantry               882124   612304       380941\n",
       "personal care        211111   145208        91253\n",
       "pets                  44978    32130        20608\n",
       "produce             4457778  3096619      1924894\n",
       "snacks              1357050   940016       590484"
      ]
     },
     "execution_count": 76,
     "metadata": {},
     "output_type": "execute_result"
    }
   ],
   "source": [
    "#check output\n",
    "department_by_age_crosstab"
   ]
  },
  {
   "cell_type": "code",
   "execution_count": 77,
   "id": "3098526f-0d09-47d9-a9bf-8a7dbdf71a97",
   "metadata": {},
   "outputs": [
    {
     "data": {
      "text/plain": [
       "Text(0.5, 1.0, 'Department Sales by Age Group')"
      ]
     },
     "execution_count": 77,
     "metadata": {},
     "output_type": "execute_result"
    },
    {
     "data": {
      "image/png": "[encoded data removed]",
      "text/plain": [
       "<Figure size 640x480 with 1 Axes>"
      ]
     },
     "metadata": {},
     "output_type": "display_data"
    }
   ],
   "source": [
    "#Create bar chart of departments by age group\n",
    "departments_by_age_bar = department_by_age_crosstab.plot.bar(color=['blue', 'orange', 'green'])\n",
    "# Add a title\n",
    "plt.title('Department Sales by Age Group')"
   ]
  },
  {
   "cell_type": "markdown",
   "id": "94df55e0-8471-4e54-8e4d-c855735412ac",
   "metadata": {},
   "source": [
    "**Observations:**\n",
    "\n",
    "- Across all age groups, 'produce' is most popular\n",
    "- Across all age groups, 'dairy eggs' is second most popular\n",
    "- 'Snacks' and 'beverages' are moderately popular amongst all age groups\n",
    "- Across all age groups, 'bulk' is the least popular department\n",
    "- Based on this chart, the top selling departments are: Produce, Dairy Eggs, Snacks, and Beverages amongst all customer age groups."
   ]
  },
  {
   "cell_type": "code",
   "execution_count": 79,
   "id": "e350db38-e9b6-4e92-8b0b-125145b97627",
   "metadata": {},
   "outputs": [],
   "source": [
    "#Export departments by age groups Bar Chart\n",
    "departments_by_age_bar.figure.savefig(os.path.join(path,'04 Analysis','Visualizations','departments_by_age_bar.png'))"
   ]
  },
  {
   "cell_type": "code",
   "execution_count": 80,
   "id": "f7ce043c-db59-41b7-8fd6-dab917007420",
   "metadata": {},
   "outputs": [],
   "source": [
    "#create crosstab of department_id and income_level\n",
    "departments_by_income_level_crosstab=pd.crosstab(df['department'], df['income_level'], dropna=False)"
   ]
  },
  {
   "cell_type": "code",
   "execution_count": 81,
   "id": "d636d175-a180-4491-85db-e24c12878be4",
   "metadata": {},
   "outputs": [
    {
     "data": {
      "text/html": [
       "<div>\n",
       "<style scoped>\n",
       "    .dataframe tbody tr th:only-of-type {\n",
       "        vertical-align: middle;\n",
       "    }\n",
       "\n",
       "    .dataframe tbody tr th {\n",
       "        vertical-align: top;\n",
       "    }\n",
       "\n",
       "    .dataframe thead th {\n",
       "        text-align: right;\n",
       "    }\n",
       "</style>\n",
       "<table border=\"1\" class=\"dataframe\">\n",
       "  <thead>\n",
       "    <tr style=\"text-align: right;\">\n",
       "      <th>income_level</th>\n",
       "      <th>High Income</th>\n",
       "      <th>Low Income</th>\n",
       "      <th>Middle Income</th>\n",
       "    </tr>\n",
       "    <tr>\n",
       "      <th>department</th>\n",
       "      <th></th>\n",
       "      <th></th>\n",
       "      <th></th>\n",
       "    </tr>\n",
       "  </thead>\n",
       "  <tbody>\n",
       "    <tr>\n",
       "      <th>alcohol</th>\n",
       "      <td>41241</td>\n",
       "      <td>37371</td>\n",
       "      <td>75084</td>\n",
       "    </tr>\n",
       "    <tr>\n",
       "      <th>babies</th>\n",
       "      <td>105097</td>\n",
       "      <td>77197</td>\n",
       "      <td>241508</td>\n",
       "    </tr>\n",
       "    <tr>\n",
       "      <th>bakery</th>\n",
       "      <td>288754</td>\n",
       "      <td>255822</td>\n",
       "      <td>627852</td>\n",
       "    </tr>\n",
       "    <tr>\n",
       "      <th>beverages</th>\n",
       "      <td>613891</td>\n",
       "      <td>731104</td>\n",
       "      <td>1343128</td>\n",
       "    </tr>\n",
       "    <tr>\n",
       "      <th>breakfast</th>\n",
       "      <td>162424</td>\n",
       "      <td>184191</td>\n",
       "      <td>356418</td>\n",
       "    </tr>\n",
       "    <tr>\n",
       "      <th>bulk</th>\n",
       "      <td>7552</td>\n",
       "      <td>9133</td>\n",
       "      <td>17888</td>\n",
       "    </tr>\n",
       "    <tr>\n",
       "      <th>canned goods</th>\n",
       "      <td>266525</td>\n",
       "      <td>215224</td>\n",
       "      <td>586309</td>\n",
       "    </tr>\n",
       "    <tr>\n",
       "      <th>dairy eggs</th>\n",
       "      <td>1307701</td>\n",
       "      <td>1182757</td>\n",
       "      <td>2908289</td>\n",
       "    </tr>\n",
       "    <tr>\n",
       "      <th>deli</th>\n",
       "      <td>250698</td>\n",
       "      <td>240958</td>\n",
       "      <td>559593</td>\n",
       "    </tr>\n",
       "    <tr>\n",
       "      <th>dry goods pasta</th>\n",
       "      <td>213044</td>\n",
       "      <td>174224</td>\n",
       "      <td>479359</td>\n",
       "    </tr>\n",
       "    <tr>\n",
       "      <th>frozen</th>\n",
       "      <td>541965</td>\n",
       "      <td>499243</td>\n",
       "      <td>1193535</td>\n",
       "    </tr>\n",
       "    <tr>\n",
       "      <th>household</th>\n",
       "      <td>178307</td>\n",
       "      <td>181679</td>\n",
       "      <td>378680</td>\n",
       "    </tr>\n",
       "    <tr>\n",
       "      <th>international</th>\n",
       "      <td>65556</td>\n",
       "      <td>56009</td>\n",
       "      <td>147688</td>\n",
       "    </tr>\n",
       "    <tr>\n",
       "      <th>meat seafood</th>\n",
       "      <td>182871</td>\n",
       "      <td>119756</td>\n",
       "      <td>406300</td>\n",
       "    </tr>\n",
       "    <tr>\n",
       "      <th>missing</th>\n",
       "      <td>16556</td>\n",
       "      <td>15727</td>\n",
       "      <td>36862</td>\n",
       "    </tr>\n",
       "    <tr>\n",
       "      <th>other</th>\n",
       "      <td>8756</td>\n",
       "      <td>8441</td>\n",
       "      <td>19094</td>\n",
       "    </tr>\n",
       "    <tr>\n",
       "      <th>pantry</th>\n",
       "      <td>457915</td>\n",
       "      <td>406275</td>\n",
       "      <td>1011179</td>\n",
       "    </tr>\n",
       "    <tr>\n",
       "      <th>personal care</th>\n",
       "      <td>107073</td>\n",
       "      <td>106259</td>\n",
       "      <td>234240</td>\n",
       "    </tr>\n",
       "    <tr>\n",
       "      <th>pets</th>\n",
       "      <td>25215</td>\n",
       "      <td>20495</td>\n",
       "      <td>52006</td>\n",
       "    </tr>\n",
       "    <tr>\n",
       "      <th>produce</th>\n",
       "      <td>2274108</td>\n",
       "      <td>2040258</td>\n",
       "      <td>5164925</td>\n",
       "    </tr>\n",
       "    <tr>\n",
       "      <th>snacks</th>\n",
       "      <td>598279</td>\n",
       "      <td>959070</td>\n",
       "      <td>1330201</td>\n",
       "    </tr>\n",
       "  </tbody>\n",
       "</table>\n",
       "</div>"
      ],
      "text/plain": [
       "income_level     High Income  Low Income  Middle Income\n",
       "department                                             \n",
       "alcohol                41241       37371          75084\n",
       "babies                105097       77197         241508\n",
       "bakery                288754      255822         627852\n",
       "beverages             613891      731104        1343128\n",
       "breakfast             162424      184191         356418\n",
       "bulk                    7552        9133          17888\n",
       "canned goods          266525      215224         586309\n",
       "dairy eggs           1307701     1182757        2908289\n",
       "deli                  250698      240958         559593\n",
       "dry goods pasta       213044      174224         479359\n",
       "frozen                541965      499243        1193535\n",
       "household             178307      181679         378680\n",
       "international          65556       56009         147688\n",
       "meat seafood          182871      119756         406300\n",
       "missing                16556       15727          36862\n",
       "other                   8756        8441          19094\n",
       "pantry                457915      406275        1011179\n",
       "personal care         107073      106259         234240\n",
       "pets                   25215       20495          52006\n",
       "produce              2274108     2040258        5164925\n",
       "snacks                598279      959070        1330201"
      ]
     },
     "execution_count": 81,
     "metadata": {},
     "output_type": "execute_result"
    }
   ],
   "source": [
    "#check output\n",
    "departments_by_income_level_crosstab"
   ]
  },
  {
   "cell_type": "code",
   "execution_count": 82,
   "id": "09543c9a-fee6-473d-8444-2d6be44f3744",
   "metadata": {},
   "outputs": [
    {
     "data": {
      "text/plain": [
       "Text(0.5, 1.0, 'Department Sales by Income Level')"
      ]
     },
     "execution_count": 82,
     "metadata": {},
     "output_type": "execute_result"
    },
    {
     "data": {
      "image/png": "[encoded data removed]",
      "text/plain": [
       "<Figure size 640x480 with 1 Axes>"
      ]
     },
     "metadata": {},
     "output_type": "display_data"
    }
   ],
   "source": [
    "#create bar chart of department_ids by income level \n",
    "departments_by_income_level_bar = departments_by_income_level_crosstab.plot.bar(color=['blue', 'orange', 'green'])\n",
    "# Add a title\n",
    "plt.title('Department Sales by Income Level')"
   ]
  },
  {
   "cell_type": "markdown",
   "id": "b6deb444-f1e8-4945-8907-703a8baf78c8",
   "metadata": {},
   "source": [
    "**Observations:**\n",
    "- 'Produce', 'dairy eggs', 'beverages', 'snacks', and 'frozen' are the most popular departments regardless of income level."
   ]
  },
  {
   "cell_type": "code",
   "execution_count": 84,
   "id": "5b6c26ba-a2dd-4717-a771-7722c831f0cc",
   "metadata": {},
   "outputs": [],
   "source": [
    "#Export Departments by income_level bar\n",
    "departments_by_income_level_bar.figure.savefig(os.path.join(path,'04 Analysis','Visualizations','departments_by_income_level_bar.png'))"
   ]
  },
  {
   "cell_type": "code",
   "execution_count": 85,
   "id": "addd0faf-648e-47be-9e3e-413b561e98ef",
   "metadata": {},
   "outputs": [],
   "source": [
    "#create crosstab of department and dependants_status\n",
    "departments_by_dependants_status_crosstab=pd.crosstab(df['department'], df['dependants_status'], dropna=False)"
   ]
  },
  {
   "cell_type": "code",
   "execution_count": 86,
   "id": "6675e17c-fc28-44c5-b6c4-32f4f8f14fd1",
   "metadata": {},
   "outputs": [
    {
     "data": {
      "text/html": [
       "<div>\n",
       "<style scoped>\n",
       "    .dataframe tbody tr th:only-of-type {\n",
       "        vertical-align: middle;\n",
       "    }\n",
       "\n",
       "    .dataframe tbody tr th {\n",
       "        vertical-align: top;\n",
       "    }\n",
       "\n",
       "    .dataframe thead th {\n",
       "        text-align: right;\n",
       "    }\n",
       "</style>\n",
       "<table border=\"1\" class=\"dataframe\">\n",
       "  <thead>\n",
       "    <tr style=\"text-align: right;\">\n",
       "      <th>dependants_status</th>\n",
       "      <th>has dependants</th>\n",
       "      <th>no dependants</th>\n",
       "    </tr>\n",
       "    <tr>\n",
       "      <th>department</th>\n",
       "      <th></th>\n",
       "      <th></th>\n",
       "    </tr>\n",
       "  </thead>\n",
       "  <tbody>\n",
       "    <tr>\n",
       "      <th>alcohol</th>\n",
       "      <td>114578</td>\n",
       "      <td>39118</td>\n",
       "    </tr>\n",
       "    <tr>\n",
       "      <th>babies</th>\n",
       "      <td>317308</td>\n",
       "      <td>106494</td>\n",
       "    </tr>\n",
       "    <tr>\n",
       "      <th>bakery</th>\n",
       "      <td>878023</td>\n",
       "      <td>294405</td>\n",
       "    </tr>\n",
       "    <tr>\n",
       "      <th>beverages</th>\n",
       "      <td>2013681</td>\n",
       "      <td>674442</td>\n",
       "    </tr>\n",
       "    <tr>\n",
       "      <th>breakfast</th>\n",
       "      <td>528456</td>\n",
       "      <td>174577</td>\n",
       "    </tr>\n",
       "    <tr>\n",
       "      <th>bulk</th>\n",
       "      <td>26295</td>\n",
       "      <td>8278</td>\n",
       "    </tr>\n",
       "    <tr>\n",
       "      <th>canned goods</th>\n",
       "      <td>803220</td>\n",
       "      <td>264838</td>\n",
       "    </tr>\n",
       "    <tr>\n",
       "      <th>dairy eggs</th>\n",
       "      <td>4049385</td>\n",
       "      <td>1349362</td>\n",
       "    </tr>\n",
       "    <tr>\n",
       "      <th>deli</th>\n",
       "      <td>786104</td>\n",
       "      <td>265145</td>\n",
       "    </tr>\n",
       "    <tr>\n",
       "      <th>dry goods pasta</th>\n",
       "      <td>651365</td>\n",
       "      <td>215262</td>\n",
       "    </tr>\n",
       "    <tr>\n",
       "      <th>frozen</th>\n",
       "      <td>1677583</td>\n",
       "      <td>557160</td>\n",
       "    </tr>\n",
       "    <tr>\n",
       "      <th>household</th>\n",
       "      <td>557893</td>\n",
       "      <td>180773</td>\n",
       "    </tr>\n",
       "    <tr>\n",
       "      <th>international</th>\n",
       "      <td>201540</td>\n",
       "      <td>67713</td>\n",
       "    </tr>\n",
       "    <tr>\n",
       "      <th>meat seafood</th>\n",
       "      <td>534843</td>\n",
       "      <td>174084</td>\n",
       "    </tr>\n",
       "    <tr>\n",
       "      <th>missing</th>\n",
       "      <td>52057</td>\n",
       "      <td>17088</td>\n",
       "    </tr>\n",
       "    <tr>\n",
       "      <th>other</th>\n",
       "      <td>27116</td>\n",
       "      <td>9175</td>\n",
       "    </tr>\n",
       "    <tr>\n",
       "      <th>pantry</th>\n",
       "      <td>1408612</td>\n",
       "      <td>466757</td>\n",
       "    </tr>\n",
       "    <tr>\n",
       "      <th>personal care</th>\n",
       "      <td>335566</td>\n",
       "      <td>112006</td>\n",
       "    </tr>\n",
       "    <tr>\n",
       "      <th>pets</th>\n",
       "      <td>73133</td>\n",
       "      <td>24583</td>\n",
       "    </tr>\n",
       "    <tr>\n",
       "      <th>produce</th>\n",
       "      <td>7103846</td>\n",
       "      <td>2375445</td>\n",
       "    </tr>\n",
       "    <tr>\n",
       "      <th>snacks</th>\n",
       "      <td>2166752</td>\n",
       "      <td>720798</td>\n",
       "    </tr>\n",
       "  </tbody>\n",
       "</table>\n",
       "</div>"
      ],
      "text/plain": [
       "dependants_status  has dependants  no dependants\n",
       "department                                      \n",
       "alcohol                    114578          39118\n",
       "babies                     317308         106494\n",
       "bakery                     878023         294405\n",
       "beverages                 2013681         674442\n",
       "breakfast                  528456         174577\n",
       "bulk                        26295           8278\n",
       "canned goods               803220         264838\n",
       "dairy eggs                4049385        1349362\n",
       "deli                       786104         265145\n",
       "dry goods pasta            651365         215262\n",
       "frozen                    1677583         557160\n",
       "household                  557893         180773\n",
       "international              201540          67713\n",
       "meat seafood               534843         174084\n",
       "missing                     52057          17088\n",
       "other                       27116           9175\n",
       "pantry                    1408612         466757\n",
       "personal care              335566         112006\n",
       "pets                        73133          24583\n",
       "produce                   7103846        2375445\n",
       "snacks                    2166752         720798"
      ]
     },
     "execution_count": 86,
     "metadata": {},
     "output_type": "execute_result"
    }
   ],
   "source": [
    "departments_by_dependants_status_crosstab"
   ]
  },
  {
   "cell_type": "code",
   "execution_count": 87,
   "id": "f7992fab-e90f-41e0-a274-e91dd70eb9fe",
   "metadata": {},
   "outputs": [
    {
     "data": {
      "text/plain": [
       "Text(0.5, 1.0, 'Department Sales by Dependants Status')"
      ]
     },
     "execution_count": 87,
     "metadata": {},
     "output_type": "execute_result"
    },
    {
     "data": {
      "image/png": "[encoded data removed]",
      "text/plain": [
       "<Figure size 640x480 with 1 Axes>"
      ]
     },
     "metadata": {},
     "output_type": "display_data"
    }
   ],
   "source": [
    "#create bar chart of departments by dependants_status \n",
    "departments_by_dependants_status_bar = departments_by_dependants_status_crosstab.plot.bar(color=['blue', 'orange'])\n",
    "# Add a title\n",
    "plt.title('Department Sales by Dependants Status')"
   ]
  },
  {
   "cell_type": "markdown",
   "id": "9b3357b9-3deb-4f9e-996e-3079680fb291",
   "metadata": {},
   "source": [
    "**Observations:**\n",
    "\n",
    "- The same 5 departments are most popular amongst those that have dependants and those that do not\n",
    "- For the produce department those with dependants account for more than half of produce sales\n",
    "- For the dairy eggs department those with dependants account for more than half of sales"
   ]
  },
  {
   "cell_type": "code",
   "execution_count": 89,
   "id": "8ace3078-87e1-4a1b-8756-48c104035b6b",
   "metadata": {},
   "outputs": [],
   "source": [
    "#Export Departments by dependants_status bar\n",
    "departments_by_dependants_status_bar.figure.savefig(os.path.join(path,'04 Analysis','Visualizations','departments_by_dependants_status_bar.png'))"
   ]
  },
  {
   "cell_type": "markdown",
   "id": "2c257035-8812-4830-b7b6-3fd198ecca92",
   "metadata": {},
   "source": [
    "## 10. Customer Profile Level Aggregations for Usage Frequency and Expenditure"
   ]
  },
  {
   "cell_type": "code",
   "execution_count": 91,
   "id": "f714bfbb-c6d8-46e1-9102-cc20de49ab15",
   "metadata": {},
   "outputs": [],
   "source": [
    "#Group columns and aggegrate the sum of prices\n",
    "#Show user's age, income level, dependant status, region, type of loyalty, type of spender, level of activity, and sum of prices\n",
    "profile_agg = df.groupby(['user_id', 'age_group', 'income_level', 'dependants_status', 'region', 'loyalty_flag', 'spending_flag', 'customer_activity_flag'])['prices'].sum().reset_index()"
   ]
  },
  {
   "cell_type": "code",
   "execution_count": 92,
   "id": "6f9e3650-9f99-4b44-a32a-5093bac3d7c4",
   "metadata": {},
   "outputs": [
    {
     "data": {
      "text/html": [
       "<div>\n",
       "<style scoped>\n",
       "    .dataframe tbody tr th:only-of-type {\n",
       "        vertical-align: middle;\n",
       "    }\n",
       "\n",
       "    .dataframe tbody tr th {\n",
       "        vertical-align: top;\n",
       "    }\n",
       "\n",
       "    .dataframe thead th {\n",
       "        text-align: right;\n",
       "    }\n",
       "</style>\n",
       "<table border=\"1\" class=\"dataframe\">\n",
       "  <thead>\n",
       "    <tr style=\"text-align: right;\">\n",
       "      <th></th>\n",
       "      <th>user_id</th>\n",
       "      <th>age_group</th>\n",
       "      <th>income_level</th>\n",
       "      <th>dependants_status</th>\n",
       "      <th>region</th>\n",
       "      <th>loyalty_flag</th>\n",
       "      <th>spending_flag</th>\n",
       "      <th>customer_activity_flag</th>\n",
       "      <th>prices</th>\n",
       "    </tr>\n",
       "  </thead>\n",
       "  <tbody>\n",
       "    <tr>\n",
       "      <th>0</th>\n",
       "      <td>1</td>\n",
       "      <td>Middle Age</td>\n",
       "      <td>Low Income</td>\n",
       "      <td>has dependants</td>\n",
       "      <td>South</td>\n",
       "      <td>New customer</td>\n",
       "      <td>Low spender</td>\n",
       "      <td>High Activity</td>\n",
       "      <td>375.7</td>\n",
       "    </tr>\n",
       "    <tr>\n",
       "      <th>1</th>\n",
       "      <td>2</td>\n",
       "      <td>Senior</td>\n",
       "      <td>Low Income</td>\n",
       "      <td>has dependants</td>\n",
       "      <td>West</td>\n",
       "      <td>Regular customer</td>\n",
       "      <td>Low spender</td>\n",
       "      <td>High Activity</td>\n",
       "      <td>1465.6</td>\n",
       "    </tr>\n",
       "    <tr>\n",
       "      <th>2</th>\n",
       "      <td>3</td>\n",
       "      <td>Middle Age</td>\n",
       "      <td>Middle Income</td>\n",
       "      <td>has dependants</td>\n",
       "      <td>West</td>\n",
       "      <td>Regular customer</td>\n",
       "      <td>Low spender</td>\n",
       "      <td>High Activity</td>\n",
       "      <td>721.4</td>\n",
       "    </tr>\n",
       "    <tr>\n",
       "      <th>3</th>\n",
       "      <td>4</td>\n",
       "      <td>Middle Age</td>\n",
       "      <td>Low Income</td>\n",
       "      <td>has dependants</td>\n",
       "      <td>South</td>\n",
       "      <td>New customer</td>\n",
       "      <td>Low spender</td>\n",
       "      <td>High Activity</td>\n",
       "      <td>147.7</td>\n",
       "    </tr>\n",
       "    <tr>\n",
       "      <th>4</th>\n",
       "      <td>5</td>\n",
       "      <td>Senior</td>\n",
       "      <td>Middle Income</td>\n",
       "      <td>no dependants</td>\n",
       "      <td>West</td>\n",
       "      <td>New customer</td>\n",
       "      <td>Low spender</td>\n",
       "      <td>Low Activity</td>\n",
       "      <td>340.0</td>\n",
       "    </tr>\n",
       "  </tbody>\n",
       "</table>\n",
       "</div>"
      ],
      "text/plain": [
       "   user_id   age_group   income_level dependants_status region  \\\n",
       "0        1  Middle Age     Low Income    has dependants  South   \n",
       "1        2      Senior     Low Income    has dependants   West   \n",
       "2        3  Middle Age  Middle Income    has dependants   West   \n",
       "3        4  Middle Age     Low Income    has dependants  South   \n",
       "4        5      Senior  Middle Income     no dependants   West   \n",
       "\n",
       "       loyalty_flag spending_flag customer_activity_flag  prices  \n",
       "0      New customer   Low spender          High Activity   375.7  \n",
       "1  Regular customer   Low spender          High Activity  1465.6  \n",
       "2  Regular customer   Low spender          High Activity   721.4  \n",
       "3      New customer   Low spender          High Activity   147.7  \n",
       "4      New customer   Low spender           Low Activity   340.0  "
      ]
     },
     "execution_count": 92,
     "metadata": {},
     "output_type": "execute_result"
    }
   ],
   "source": [
    "#check output\n",
    "profile_agg.head()"
   ]
  },
  {
   "cell_type": "code",
   "execution_count": 93,
   "id": "e81e81e6-ca17-4d77-985b-fc55276596e0",
   "metadata": {},
   "outputs": [],
   "source": [
    "#Show user usage by calculating the mean, min and max values of days since prior order, order day of week, order hour of the day, and prices for each user\n",
    "user_agg=df.groupby('user_id').agg({'days_since_prior_order': ['mean', 'min', 'max'],\n",
    "                                        'order_day_of_week': ['mean', 'min', 'max'],'order_hour_of_day': ['mean', 'min', 'max'],\n",
    "                                        'prices': ['mean', 'min', 'max'],})"
   ]
  },
  {
   "cell_type": "code",
   "execution_count": 94,
   "id": "f23a2ecf-a5de-4ad6-888d-1b5e0777f02d",
   "metadata": {},
   "outputs": [
    {
     "data": {
      "text/html": [
       "<div>\n",
       "<style scoped>\n",
       "    .dataframe tbody tr th:only-of-type {\n",
       "        vertical-align: middle;\n",
       "    }\n",
       "\n",
       "    .dataframe tbody tr th {\n",
       "        vertical-align: top;\n",
       "    }\n",
       "\n",
       "    .dataframe thead tr th {\n",
       "        text-align: left;\n",
       "    }\n",
       "\n",
       "    .dataframe thead tr:last-of-type th {\n",
       "        text-align: right;\n",
       "    }\n",
       "</style>\n",
       "<table border=\"1\" class=\"dataframe\">\n",
       "  <thead>\n",
       "    <tr>\n",
       "      <th></th>\n",
       "      <th colspan=\"3\" halign=\"left\">days_since_prior_order</th>\n",
       "      <th colspan=\"3\" halign=\"left\">order_day_of_week</th>\n",
       "      <th colspan=\"3\" halign=\"left\">order_hour_of_day</th>\n",
       "      <th colspan=\"3\" halign=\"left\">prices</th>\n",
       "    </tr>\n",
       "    <tr>\n",
       "      <th></th>\n",
       "      <th>mean</th>\n",
       "      <th>min</th>\n",
       "      <th>max</th>\n",
       "      <th>mean</th>\n",
       "      <th>min</th>\n",
       "      <th>max</th>\n",
       "      <th>mean</th>\n",
       "      <th>min</th>\n",
       "      <th>max</th>\n",
       "      <th>mean</th>\n",
       "      <th>min</th>\n",
       "      <th>max</th>\n",
       "    </tr>\n",
       "    <tr>\n",
       "      <th>user_id</th>\n",
       "      <th></th>\n",
       "      <th></th>\n",
       "      <th></th>\n",
       "      <th></th>\n",
       "      <th></th>\n",
       "      <th></th>\n",
       "      <th></th>\n",
       "      <th></th>\n",
       "      <th></th>\n",
       "      <th></th>\n",
       "      <th></th>\n",
       "      <th></th>\n",
       "    </tr>\n",
       "  </thead>\n",
       "  <tbody>\n",
       "    <tr>\n",
       "      <th>1</th>\n",
       "      <td>20.259259</td>\n",
       "      <td>0.0</td>\n",
       "      <td>30.0</td>\n",
       "      <td>2.644068</td>\n",
       "      <td>1</td>\n",
       "      <td>4</td>\n",
       "      <td>10.542373</td>\n",
       "      <td>7</td>\n",
       "      <td>16</td>\n",
       "      <td>6.367797</td>\n",
       "      <td>1.0</td>\n",
       "      <td>14.0</td>\n",
       "    </tr>\n",
       "    <tr>\n",
       "      <th>2</th>\n",
       "      <td>15.967033</td>\n",
       "      <td>3.0</td>\n",
       "      <td>30.0</td>\n",
       "      <td>2.005128</td>\n",
       "      <td>1</td>\n",
       "      <td>5</td>\n",
       "      <td>10.441026</td>\n",
       "      <td>9</td>\n",
       "      <td>15</td>\n",
       "      <td>7.515897</td>\n",
       "      <td>1.3</td>\n",
       "      <td>14.8</td>\n",
       "    </tr>\n",
       "    <tr>\n",
       "      <th>3</th>\n",
       "      <td>11.487179</td>\n",
       "      <td>7.0</td>\n",
       "      <td>21.0</td>\n",
       "      <td>1.011364</td>\n",
       "      <td>0</td>\n",
       "      <td>3</td>\n",
       "      <td>16.352273</td>\n",
       "      <td>14</td>\n",
       "      <td>19</td>\n",
       "      <td>8.197727</td>\n",
       "      <td>1.3</td>\n",
       "      <td>14.4</td>\n",
       "    </tr>\n",
       "    <tr>\n",
       "      <th>4</th>\n",
       "      <td>15.357143</td>\n",
       "      <td>0.0</td>\n",
       "      <td>21.0</td>\n",
       "      <td>4.722222</td>\n",
       "      <td>4</td>\n",
       "      <td>6</td>\n",
       "      <td>13.111111</td>\n",
       "      <td>11</td>\n",
       "      <td>15</td>\n",
       "      <td>8.205556</td>\n",
       "      <td>1.4</td>\n",
       "      <td>14.6</td>\n",
       "    </tr>\n",
       "    <tr>\n",
       "      <th>5</th>\n",
       "      <td>14.500000</td>\n",
       "      <td>10.0</td>\n",
       "      <td>19.0</td>\n",
       "      <td>1.621622</td>\n",
       "      <td>0</td>\n",
       "      <td>3</td>\n",
       "      <td>15.729730</td>\n",
       "      <td>12</td>\n",
       "      <td>18</td>\n",
       "      <td>9.189189</td>\n",
       "      <td>3.2</td>\n",
       "      <td>14.8</td>\n",
       "    </tr>\n",
       "  </tbody>\n",
       "</table>\n",
       "</div>"
      ],
      "text/plain": [
       "        days_since_prior_order             order_day_of_week          \\\n",
       "                          mean   min   max              mean min max   \n",
       "user_id                                                                \n",
       "1                    20.259259   0.0  30.0          2.644068   1   4   \n",
       "2                    15.967033   3.0  30.0          2.005128   1   5   \n",
       "3                    11.487179   7.0  21.0          1.011364   0   3   \n",
       "4                    15.357143   0.0  21.0          4.722222   4   6   \n",
       "5                    14.500000  10.0  19.0          1.621622   0   3   \n",
       "\n",
       "        order_hour_of_day            prices             \n",
       "                     mean min max      mean  min   max  \n",
       "user_id                                                 \n",
       "1               10.542373   7  16  6.367797  1.0  14.0  \n",
       "2               10.441026   9  15  7.515897  1.3  14.8  \n",
       "3               16.352273  14  19  8.197727  1.3  14.4  \n",
       "4               13.111111  11  15  8.205556  1.4  14.6  \n",
       "5               15.729730  12  18  9.189189  3.2  14.8  "
      ]
     },
     "execution_count": 94,
     "metadata": {},
     "output_type": "execute_result"
    }
   ],
   "source": [
    "#Check output\n",
    "user_agg.head()"
   ]
  },
  {
   "cell_type": "markdown",
   "id": "d5434929-5ade-43a7-8a8a-7a9aec0eec25",
   "metadata": {},
   "source": [
    "### 11. Customer Comparisons"
   ]
  },
  {
   "cell_type": "code",
   "execution_count": 96,
   "id": "a7095267-8dff-4775-a55f-590839847286",
   "metadata": {},
   "outputs": [],
   "source": [
    "#Compare age group with income level\n",
    "#Create Crosstab\n",
    "income_age_crosstab=pd.crosstab(df['income_level'], df['age_group'], dropna=False)"
   ]
  },
  {
   "cell_type": "code",
   "execution_count": 97,
   "id": "22aaa9c5-a43e-4bf1-b6ed-4f6a138dc480",
   "metadata": {},
   "outputs": [
    {
     "data": {
      "text/html": [
       "<div>\n",
       "<style scoped>\n",
       "    .dataframe tbody tr th:only-of-type {\n",
       "        vertical-align: middle;\n",
       "    }\n",
       "\n",
       "    .dataframe tbody tr th {\n",
       "        vertical-align: top;\n",
       "    }\n",
       "\n",
       "    .dataframe thead th {\n",
       "        text-align: right;\n",
       "    }\n",
       "</style>\n",
       "<table border=\"1\" class=\"dataframe\">\n",
       "  <thead>\n",
       "    <tr style=\"text-align: right;\">\n",
       "      <th>age_group</th>\n",
       "      <th>Middle Age</th>\n",
       "      <th>Senior</th>\n",
       "      <th>Young Adult</th>\n",
       "    </tr>\n",
       "    <tr>\n",
       "      <th>income_level</th>\n",
       "      <th></th>\n",
       "      <th></th>\n",
       "      <th></th>\n",
       "    </tr>\n",
       "  </thead>\n",
       "  <tbody>\n",
       "    <tr>\n",
       "      <th>High Income</th>\n",
       "      <td>3766278</td>\n",
       "      <td>3875898</td>\n",
       "      <td>71352</td>\n",
       "    </tr>\n",
       "    <tr>\n",
       "      <th>Low Income</th>\n",
       "      <td>3433260</td>\n",
       "      <td>1310131</td>\n",
       "      <td>2777802</td>\n",
       "    </tr>\n",
       "    <tr>\n",
       "      <th>Middle Income</th>\n",
       "      <td>8023123</td>\n",
       "      <td>5396810</td>\n",
       "      <td>3750205</td>\n",
       "    </tr>\n",
       "  </tbody>\n",
       "</table>\n",
       "</div>"
      ],
      "text/plain": [
       "age_group      Middle Age   Senior  Young Adult\n",
       "income_level                                   \n",
       "High Income       3766278  3875898        71352\n",
       "Low Income        3433260  1310131      2777802\n",
       "Middle Income     8023123  5396810      3750205"
      ]
     },
     "execution_count": 97,
     "metadata": {},
     "output_type": "execute_result"
    }
   ],
   "source": [
    "#print crosstab\n",
    "income_age_crosstab"
   ]
  },
  {
   "cell_type": "code",
   "execution_count": 98,
   "id": "d70a2370-13b7-4774-9736-35fbbfabdd5f",
   "metadata": {},
   "outputs": [
    {
     "data": {
      "text/plain": [
       "Text(0.5, 1.0, 'Income Levels by Age Group')"
      ]
     },
     "execution_count": 98,
     "metadata": {},
     "output_type": "execute_result"
    },
    {
     "data": {
      "image/png": "[encoded data removed]",
      "text/plain": [
       "<Figure size 640x480 with 1 Axes>"
      ]
     },
     "metadata": {},
     "output_type": "display_data"
    }
   ],
   "source": [
    "#Create bar chart of crosstab\n",
    "bar_income_age=income_age_crosstab.plot.bar(color=['blue', 'green', 'orange'])\n",
    "# Add a title\n",
    "plt.title('Income Levels by Age Group')"
   ]
  },
  {
   "cell_type": "code",
   "execution_count": 99,
   "id": "ebb376b3-da1e-4032-a9cc-fb2a8c9e0d3e",
   "metadata": {},
   "outputs": [],
   "source": [
    "#Switching the x and y axis for easier readability\n",
    "#Transpose the crosstab DataFrame to switch columns and rows\n",
    "income_age_crosstab_transposed = income_age_crosstab.T"
   ]
  },
  {
   "cell_type": "code",
   "execution_count": 100,
   "id": "b2f908ee-ce12-4d84-bfdf-766619c9423a",
   "metadata": {},
   "outputs": [
    {
     "data": {
      "text/plain": [
       "Text(0.5, 1.0, 'Income Levels by Age Group')"
      ]
     },
     "execution_count": 100,
     "metadata": {},
     "output_type": "execute_result"
    },
    {
     "data": {
      "image/png": "[encoded data removed]",
      "text/plain": [
       "<Figure size 640x480 with 1 Axes>"
      ]
     },
     "metadata": {},
     "output_type": "display_data"
    }
   ],
   "source": [
    "#Create the bar chart with the transposed DataFrame\n",
    "#change colors so that blue and green are not side by side for easier readability\n",
    "bar_income_age = income_age_crosstab_transposed.plot.bar(color=['blue', 'orange', 'green'])\n",
    "plt.title('Income Levels by Age Group')"
   ]
  },
  {
   "cell_type": "code",
   "execution_count": 101,
   "id": "8dece7bf-5f36-4082-a2c0-d674e1993a80",
   "metadata": {},
   "outputs": [],
   "source": [
    "#Export income levels by age group bar chart\n",
    "bar_income_age.figure.savefig(os.path.join(path,'04 Analysis','Visualizations','income_by_age_group_bar.png'))"
   ]
  },
  {
   "cell_type": "code",
   "execution_count": 102,
   "id": "d0e76999-d37a-4e1b-9e82-ff6bc8c47725",
   "metadata": {},
   "outputs": [],
   "source": [
    "#compare age groups and dependents by creating crosstab\n",
    "#create crosstab\n",
    "dependants_by_age_group=pd.crosstab(df['age_group'], df['dependants_status'],dropna = False)"
   ]
  },
  {
   "cell_type": "code",
   "execution_count": 103,
   "id": "1e30e7c9-59b8-4ec1-9d23-715b482e0391",
   "metadata": {},
   "outputs": [
    {
     "data": {
      "text/html": [
       "<div>\n",
       "<style scoped>\n",
       "    .dataframe tbody tr th:only-of-type {\n",
       "        vertical-align: middle;\n",
       "    }\n",
       "\n",
       "    .dataframe tbody tr th {\n",
       "        vertical-align: top;\n",
       "    }\n",
       "\n",
       "    .dataframe thead th {\n",
       "        text-align: right;\n",
       "    }\n",
       "</style>\n",
       "<table border=\"1\" class=\"dataframe\">\n",
       "  <thead>\n",
       "    <tr style=\"text-align: right;\">\n",
       "      <th>dependants_status</th>\n",
       "      <th>has dependants</th>\n",
       "      <th>no dependants</th>\n",
       "    </tr>\n",
       "    <tr>\n",
       "      <th>age_group</th>\n",
       "      <th></th>\n",
       "      <th></th>\n",
       "    </tr>\n",
       "  </thead>\n",
       "  <tbody>\n",
       "    <tr>\n",
       "      <th>Middle Age</th>\n",
       "      <td>11424038</td>\n",
       "      <td>3798623</td>\n",
       "    </tr>\n",
       "    <tr>\n",
       "      <th>Senior</th>\n",
       "      <td>7928248</td>\n",
       "      <td>2654591</td>\n",
       "    </tr>\n",
       "    <tr>\n",
       "      <th>Young Adult</th>\n",
       "      <td>4955070</td>\n",
       "      <td>1644289</td>\n",
       "    </tr>\n",
       "  </tbody>\n",
       "</table>\n",
       "</div>"
      ],
      "text/plain": [
       "dependants_status  has dependants  no dependants\n",
       "age_group                                       \n",
       "Middle Age               11424038        3798623\n",
       "Senior                    7928248        2654591\n",
       "Young Adult               4955070        1644289"
      ]
     },
     "execution_count": 103,
     "metadata": {},
     "output_type": "execute_result"
    }
   ],
   "source": [
    "#check crosstab\n",
    "dependants_by_age_group"
   ]
  },
  {
   "cell_type": "code",
   "execution_count": 104,
   "id": "dfe76a37-8ac2-4b01-8cb0-040100b6b1fb",
   "metadata": {},
   "outputs": [
    {
     "data": {
      "text/plain": [
       "Text(0.5, 1.0, 'Dependants Status by Age Group')"
      ]
     },
     "execution_count": 104,
     "metadata": {},
     "output_type": "execute_result"
    },
    {
     "data": {
      "image/png": "[encoded data removed]",
      "text/plain": [
       "<Figure size 640x480 with 1 Axes>"
      ]
     },
     "metadata": {},
     "output_type": "display_data"
    }
   ],
   "source": [
    "#create bar chart of crosstab\n",
    "bar_dependants_by_age_group=dependants_by_age_group.plot.bar(color=['blue', 'orange'])\n",
    "plt.title('Dependants Status by Age Group')"
   ]
  },
  {
   "cell_type": "code",
   "execution_count": 105,
   "id": "f804e6c3-26e3-4408-ae2e-f3840e1c6ec7",
   "metadata": {},
   "outputs": [],
   "source": [
    "#Export dependants by age group bar chart\n",
    "bar_dependants_by_age_group.figure.savefig(os.path.join(path,'04 Analysis','Visualizations','dependants_by_age_group_bar.png'))"
   ]
  },
  {
   "cell_type": "code",
   "execution_count": 106,
   "id": "b375300a-6904-470d-8069-52459f3935af",
   "metadata": {},
   "outputs": [],
   "source": [
    "#compare spending by region by creating crosstab\n",
    "#create crosstab\n",
    "spending_habits_by_region=pd.crosstab(df['region'], df['spending_flag'],dropna = False)"
   ]
  },
  {
   "cell_type": "code",
   "execution_count": 107,
   "id": "1bbc7313-2c4c-461c-a684-da78b4446691",
   "metadata": {},
   "outputs": [
    {
     "data": {
      "text/html": [
       "<div>\n",
       "<style scoped>\n",
       "    .dataframe tbody tr th:only-of-type {\n",
       "        vertical-align: middle;\n",
       "    }\n",
       "\n",
       "    .dataframe tbody tr th {\n",
       "        vertical-align: top;\n",
       "    }\n",
       "\n",
       "    .dataframe thead th {\n",
       "        text-align: right;\n",
       "    }\n",
       "</style>\n",
       "<table border=\"1\" class=\"dataframe\">\n",
       "  <thead>\n",
       "    <tr style=\"text-align: right;\">\n",
       "      <th>spending_flag</th>\n",
       "      <th>High spender</th>\n",
       "      <th>Low spender</th>\n",
       "    </tr>\n",
       "    <tr>\n",
       "      <th>region</th>\n",
       "      <th></th>\n",
       "      <th></th>\n",
       "    </tr>\n",
       "  </thead>\n",
       "  <tbody>\n",
       "    <tr>\n",
       "      <th>Midwest</th>\n",
       "      <td>29265</td>\n",
       "      <td>7568060</td>\n",
       "    </tr>\n",
       "    <tr>\n",
       "      <th>Northeast</th>\n",
       "      <td>18642</td>\n",
       "      <td>5704094</td>\n",
       "    </tr>\n",
       "    <tr>\n",
       "      <th>South</th>\n",
       "      <td>40564</td>\n",
       "      <td>10751321</td>\n",
       "    </tr>\n",
       "    <tr>\n",
       "      <th>West</th>\n",
       "      <td>31223</td>\n",
       "      <td>8261690</td>\n",
       "    </tr>\n",
       "  </tbody>\n",
       "</table>\n",
       "</div>"
      ],
      "text/plain": [
       "spending_flag  High spender  Low spender\n",
       "region                                  \n",
       "Midwest               29265      7568060\n",
       "Northeast             18642      5704094\n",
       "South                 40564     10751321\n",
       "West                  31223      8261690"
      ]
     },
     "execution_count": 107,
     "metadata": {},
     "output_type": "execute_result"
    }
   ],
   "source": [
    "spending_habits_by_region"
   ]
  },
  {
   "cell_type": "code",
   "execution_count": 108,
   "id": "baa5f740-3c24-4341-83cd-ec69c1c7d151",
   "metadata": {},
   "outputs": [
    {
     "data": {
      "text/plain": [
       "Text(0.5, 1.0, 'Customer Spending Habits by Region')"
      ]
     },
     "execution_count": 108,
     "metadata": {},
     "output_type": "execute_result"
    },
    {
     "data": {
      "image/png": "[encoded data removed]",
      "text/plain": [
       "<Figure size 640x480 with 1 Axes>"
      ]
     },
     "metadata": {},
     "output_type": "display_data"
    }
   ],
   "source": [
    "#create bar chart of crosstab\n",
    "bar_spending_habits_by_region=spending_habits_by_region.plot.bar(color=['blue', 'orange'])\n",
    "plt.title('Customer Spending Habits by Region')"
   ]
  },
  {
   "cell_type": "code",
   "execution_count": 109,
   "id": "6890f223-f0fe-407a-8fe0-8edd3e047be0",
   "metadata": {},
   "outputs": [],
   "source": [
    "#Export dependants by age group bar chart\n",
    "bar_spending_habits_by_region.figure.savefig(os.path.join(path,'04 Analysis','Visualizations','spending_habits_by_region_bar.png'))"
   ]
  },
  {
   "cell_type": "code",
   "execution_count": 110,
   "id": "3ad8f1e6-508d-496b-9a4c-3f19fbaa55f6",
   "metadata": {},
   "outputs": [],
   "source": [
    "#compare income level by region by creating crosstab\n",
    "#create crosstab\n",
    "income_level_by_region=pd.crosstab(df['region'], df['income_level'],dropna = False)"
   ]
  },
  {
   "cell_type": "code",
   "execution_count": 111,
   "id": "709fa352-a178-4512-a42d-1da2a7e36418",
   "metadata": {},
   "outputs": [
    {
     "data": {
      "text/html": [
       "<div>\n",
       "<style scoped>\n",
       "    .dataframe tbody tr th:only-of-type {\n",
       "        vertical-align: middle;\n",
       "    }\n",
       "\n",
       "    .dataframe tbody tr th {\n",
       "        vertical-align: top;\n",
       "    }\n",
       "\n",
       "    .dataframe thead th {\n",
       "        text-align: right;\n",
       "    }\n",
       "</style>\n",
       "<table border=\"1\" class=\"dataframe\">\n",
       "  <thead>\n",
       "    <tr style=\"text-align: right;\">\n",
       "      <th>income_level</th>\n",
       "      <th>High Income</th>\n",
       "      <th>Low Income</th>\n",
       "      <th>Middle Income</th>\n",
       "    </tr>\n",
       "    <tr>\n",
       "      <th>region</th>\n",
       "      <th></th>\n",
       "      <th></th>\n",
       "      <th></th>\n",
       "    </tr>\n",
       "  </thead>\n",
       "  <tbody>\n",
       "    <tr>\n",
       "      <th>Midwest</th>\n",
       "      <td>1835777</td>\n",
       "      <td>1737985</td>\n",
       "      <td>4023563</td>\n",
       "    </tr>\n",
       "    <tr>\n",
       "      <th>Northeast</th>\n",
       "      <td>1367168</td>\n",
       "      <td>1317307</td>\n",
       "      <td>3038261</td>\n",
       "    </tr>\n",
       "    <tr>\n",
       "      <th>South</th>\n",
       "      <td>2546153</td>\n",
       "      <td>2532055</td>\n",
       "      <td>5713677</td>\n",
       "    </tr>\n",
       "    <tr>\n",
       "      <th>West</th>\n",
       "      <td>1964430</td>\n",
       "      <td>1933846</td>\n",
       "      <td>4394637</td>\n",
       "    </tr>\n",
       "  </tbody>\n",
       "</table>\n",
       "</div>"
      ],
      "text/plain": [
       "income_level  High Income  Low Income  Middle Income\n",
       "region                                              \n",
       "Midwest           1835777     1737985        4023563\n",
       "Northeast         1367168     1317307        3038261\n",
       "South             2546153     2532055        5713677\n",
       "West              1964430     1933846        4394637"
      ]
     },
     "execution_count": 111,
     "metadata": {},
     "output_type": "execute_result"
    }
   ],
   "source": [
    "income_level_by_region"
   ]
  },
  {
   "cell_type": "code",
   "execution_count": 112,
   "id": "76d4321a-1887-4fc7-85a1-57d1df316d2a",
   "metadata": {},
   "outputs": [
    {
     "data": {
      "text/plain": [
       "Text(0.5, 1.0, 'Income Levels by Region')"
      ]
     },
     "execution_count": 112,
     "metadata": {},
     "output_type": "execute_result"
    },
    {
     "data": {
      "image/png": "[encoded data removed]",
      "text/plain": [
       "<Figure size 640x480 with 1 Axes>"
      ]
     },
     "metadata": {},
     "output_type": "display_data"
    }
   ],
   "source": [
    "#create bar\n",
    "bar_income_level_by_region=income_level_by_region.plot.bar(color=['blue', 'orange', 'green'])\n",
    "plt.title('Income Levels by Region')"
   ]
  },
  {
   "cell_type": "code",
   "execution_count": 113,
   "id": "1c5aa13e-0924-4a68-8b37-215cd008cff0",
   "metadata": {},
   "outputs": [],
   "source": [
    "#Export \n",
    "bar_income_level_by_region.figure.savefig(os.path.join(path,'04 Analysis','Visualizations','income_level_by_region_bar.png'))"
   ]
  },
  {
   "cell_type": "code",
   "execution_count": 114,
   "id": "bbbb1d30-75f2-4aa9-ae4f-01eeb4b89de9",
   "metadata": {},
   "outputs": [],
   "source": [
    "#compare dependants by region by creating crosstab\n",
    "#create crosstab\n",
    "dependants_by_region_crosstab=pd.crosstab(df['region'], df['dependants_status'],dropna = False)"
   ]
  },
  {
   "cell_type": "code",
   "execution_count": 115,
   "id": "2bb3a176-2f59-40d1-9669-e167944f6508",
   "metadata": {},
   "outputs": [
    {
     "data": {
      "text/html": [
       "<div>\n",
       "<style scoped>\n",
       "    .dataframe tbody tr th:only-of-type {\n",
       "        vertical-align: middle;\n",
       "    }\n",
       "\n",
       "    .dataframe tbody tr th {\n",
       "        vertical-align: top;\n",
       "    }\n",
       "\n",
       "    .dataframe thead th {\n",
       "        text-align: right;\n",
       "    }\n",
       "</style>\n",
       "<table border=\"1\" class=\"dataframe\">\n",
       "  <thead>\n",
       "    <tr style=\"text-align: right;\">\n",
       "      <th>dependants_status</th>\n",
       "      <th>has dependants</th>\n",
       "      <th>no dependants</th>\n",
       "    </tr>\n",
       "    <tr>\n",
       "      <th>region</th>\n",
       "      <th></th>\n",
       "      <th></th>\n",
       "    </tr>\n",
       "  </thead>\n",
       "  <tbody>\n",
       "    <tr>\n",
       "      <th>Midwest</th>\n",
       "      <td>5692125</td>\n",
       "      <td>1905200</td>\n",
       "    </tr>\n",
       "    <tr>\n",
       "      <th>Northeast</th>\n",
       "      <td>4304435</td>\n",
       "      <td>1418301</td>\n",
       "    </tr>\n",
       "    <tr>\n",
       "      <th>South</th>\n",
       "      <td>8090226</td>\n",
       "      <td>2701659</td>\n",
       "    </tr>\n",
       "    <tr>\n",
       "      <th>West</th>\n",
       "      <td>6220570</td>\n",
       "      <td>2072343</td>\n",
       "    </tr>\n",
       "  </tbody>\n",
       "</table>\n",
       "</div>"
      ],
      "text/plain": [
       "dependants_status  has dependants  no dependants\n",
       "region                                          \n",
       "Midwest                   5692125        1905200\n",
       "Northeast                 4304435        1418301\n",
       "South                     8090226        2701659\n",
       "West                      6220570        2072343"
      ]
     },
     "execution_count": 115,
     "metadata": {},
     "output_type": "execute_result"
    }
   ],
   "source": [
    "#print crosstab\n",
    "dependants_by_region_crosstab"
   ]
  },
  {
   "cell_type": "code",
   "execution_count": 116,
   "id": "e3f92def-32d0-452e-b516-a27444e1e768",
   "metadata": {},
   "outputs": [
    {
     "data": {
      "text/plain": [
       "Text(0.5, 1.0, 'Dependants Status by Region')"
      ]
     },
     "execution_count": 116,
     "metadata": {},
     "output_type": "execute_result"
    },
    {
     "data": {
      "image/png": "[encoded data removed]",
      "text/plain": [
       "<Figure size 640x480 with 1 Axes>"
      ]
     },
     "metadata": {},
     "output_type": "display_data"
    }
   ],
   "source": [
    "#create bar\n",
    "bar_dependants_by_region=dependants_by_region_crosstab.plot.bar(color=['blue', 'orange', 'green','yellow'])\n",
    "plt.title('Dependants Status by Region')"
   ]
  },
  {
   "cell_type": "code",
   "execution_count": 117,
   "id": "fec64b52-8ff3-4ecb-8127-8c6a30b6a9c2",
   "metadata": {},
   "outputs": [],
   "source": [
    "#Export \n",
    "bar_dependants_by_region.figure.savefig(os.path.join(path,'04 Analysis','Visualizations','dependants_by_region_bar.png'))"
   ]
  },
  {
   "cell_type": "code",
   "execution_count": 118,
   "id": "c00cfaa6-c904-4f55-8a30-eec1f598426d",
   "metadata": {},
   "outputs": [],
   "source": [
    "#compare departments by region by creating crosstab\n",
    "#create crosstab\n",
    "departments_by_region_crosstab=pd.crosstab(df['region'], df['department'],dropna = False)"
   ]
  },
  {
   "cell_type": "code",
   "execution_count": 119,
   "id": "0a30d15c-7cbf-406d-89b0-2c06d9bb942f",
   "metadata": {},
   "outputs": [
    {
     "data": {
      "text/html": [
       "<div>\n",
       "<style scoped>\n",
       "    .dataframe tbody tr th:only-of-type {\n",
       "        vertical-align: middle;\n",
       "    }\n",
       "\n",
       "    .dataframe tbody tr th {\n",
       "        vertical-align: top;\n",
       "    }\n",
       "\n",
       "    .dataframe thead th {\n",
       "        text-align: right;\n",
       "    }\n",
       "</style>\n",
       "<table border=\"1\" class=\"dataframe\">\n",
       "  <thead>\n",
       "    <tr style=\"text-align: right;\">\n",
       "      <th>department</th>\n",
       "      <th>alcohol</th>\n",
       "      <th>babies</th>\n",
       "      <th>bakery</th>\n",
       "      <th>beverages</th>\n",
       "      <th>breakfast</th>\n",
       "      <th>bulk</th>\n",
       "      <th>canned goods</th>\n",
       "      <th>dairy eggs</th>\n",
       "      <th>deli</th>\n",
       "      <th>dry goods pasta</th>\n",
       "      <th>...</th>\n",
       "      <th>household</th>\n",
       "      <th>international</th>\n",
       "      <th>meat seafood</th>\n",
       "      <th>missing</th>\n",
       "      <th>other</th>\n",
       "      <th>pantry</th>\n",
       "      <th>personal care</th>\n",
       "      <th>pets</th>\n",
       "      <th>produce</th>\n",
       "      <th>snacks</th>\n",
       "    </tr>\n",
       "    <tr>\n",
       "      <th>region</th>\n",
       "      <th></th>\n",
       "      <th></th>\n",
       "      <th></th>\n",
       "      <th></th>\n",
       "      <th></th>\n",
       "      <th></th>\n",
       "      <th></th>\n",
       "      <th></th>\n",
       "      <th></th>\n",
       "      <th></th>\n",
       "      <th></th>\n",
       "      <th></th>\n",
       "      <th></th>\n",
       "      <th></th>\n",
       "      <th></th>\n",
       "      <th></th>\n",
       "      <th></th>\n",
       "      <th></th>\n",
       "      <th></th>\n",
       "      <th></th>\n",
       "      <th></th>\n",
       "    </tr>\n",
       "  </thead>\n",
       "  <tbody>\n",
       "    <tr>\n",
       "      <th>Midwest</th>\n",
       "      <td>36186</td>\n",
       "      <td>98983</td>\n",
       "      <td>273869</td>\n",
       "      <td>625574</td>\n",
       "      <td>163551</td>\n",
       "      <td>8193</td>\n",
       "      <td>250702</td>\n",
       "      <td>1264223</td>\n",
       "      <td>245678</td>\n",
       "      <td>203769</td>\n",
       "      <td>...</td>\n",
       "      <td>175824</td>\n",
       "      <td>63736</td>\n",
       "      <td>166129</td>\n",
       "      <td>16535</td>\n",
       "      <td>8420</td>\n",
       "      <td>442101</td>\n",
       "      <td>105749</td>\n",
       "      <td>22355</td>\n",
       "      <td>2227937</td>\n",
       "      <td>673715</td>\n",
       "    </tr>\n",
       "    <tr>\n",
       "      <th>Northeast</th>\n",
       "      <td>26542</td>\n",
       "      <td>75139</td>\n",
       "      <td>208599</td>\n",
       "      <td>483418</td>\n",
       "      <td>123574</td>\n",
       "      <td>5802</td>\n",
       "      <td>186755</td>\n",
       "      <td>954026</td>\n",
       "      <td>186817</td>\n",
       "      <td>151816</td>\n",
       "      <td>...</td>\n",
       "      <td>131485</td>\n",
       "      <td>46891</td>\n",
       "      <td>124620</td>\n",
       "      <td>12374</td>\n",
       "      <td>6585</td>\n",
       "      <td>329445</td>\n",
       "      <td>78815</td>\n",
       "      <td>18601</td>\n",
       "      <td>1665839</td>\n",
       "      <td>514675</td>\n",
       "    </tr>\n",
       "    <tr>\n",
       "      <th>South</th>\n",
       "      <td>51624</td>\n",
       "      <td>143654</td>\n",
       "      <td>388815</td>\n",
       "      <td>898940</td>\n",
       "      <td>234251</td>\n",
       "      <td>11533</td>\n",
       "      <td>356015</td>\n",
       "      <td>1796969</td>\n",
       "      <td>349419</td>\n",
       "      <td>287444</td>\n",
       "      <td>...</td>\n",
       "      <td>243070</td>\n",
       "      <td>89142</td>\n",
       "      <td>235752</td>\n",
       "      <td>23193</td>\n",
       "      <td>12212</td>\n",
       "      <td>622436</td>\n",
       "      <td>150350</td>\n",
       "      <td>31269</td>\n",
       "      <td>3160551</td>\n",
       "      <td>957346</td>\n",
       "    </tr>\n",
       "    <tr>\n",
       "      <th>West</th>\n",
       "      <td>39344</td>\n",
       "      <td>106026</td>\n",
       "      <td>301145</td>\n",
       "      <td>680191</td>\n",
       "      <td>181657</td>\n",
       "      <td>9045</td>\n",
       "      <td>274586</td>\n",
       "      <td>1383529</td>\n",
       "      <td>269335</td>\n",
       "      <td>223598</td>\n",
       "      <td>...</td>\n",
       "      <td>188287</td>\n",
       "      <td>69484</td>\n",
       "      <td>182426</td>\n",
       "      <td>17043</td>\n",
       "      <td>9074</td>\n",
       "      <td>481387</td>\n",
       "      <td>112658</td>\n",
       "      <td>25491</td>\n",
       "      <td>2424964</td>\n",
       "      <td>741814</td>\n",
       "    </tr>\n",
       "  </tbody>\n",
       "</table>\n",
       "<p>4 rows × 21 columns</p>\n",
       "</div>"
      ],
      "text/plain": [
       "department  alcohol  babies  bakery  beverages  breakfast   bulk  \\\n",
       "region                                                             \n",
       "Midwest       36186   98983  273869     625574     163551   8193   \n",
       "Northeast     26542   75139  208599     483418     123574   5802   \n",
       "South         51624  143654  388815     898940     234251  11533   \n",
       "West          39344  106026  301145     680191     181657   9045   \n",
       "\n",
       "department  canned goods  dairy eggs    deli  dry goods pasta  ...  household  \\\n",
       "region                                                         ...              \n",
       "Midwest           250702     1264223  245678           203769  ...     175824   \n",
       "Northeast         186755      954026  186817           151816  ...     131485   \n",
       "South             356015     1796969  349419           287444  ...     243070   \n",
       "West              274586     1383529  269335           223598  ...     188287   \n",
       "\n",
       "department  international  meat seafood  missing  other  pantry  \\\n",
       "region                                                            \n",
       "Midwest             63736        166129    16535   8420  442101   \n",
       "Northeast           46891        124620    12374   6585  329445   \n",
       "South               89142        235752    23193  12212  622436   \n",
       "West                69484        182426    17043   9074  481387   \n",
       "\n",
       "department  personal care   pets  produce  snacks  \n",
       "region                                             \n",
       "Midwest            105749  22355  2227937  673715  \n",
       "Northeast           78815  18601  1665839  514675  \n",
       "South              150350  31269  3160551  957346  \n",
       "West               112658  25491  2424964  741814  \n",
       "\n",
       "[4 rows x 21 columns]"
      ]
     },
     "execution_count": 119,
     "metadata": {},
     "output_type": "execute_result"
    }
   ],
   "source": [
    "#Print crosstab\n",
    "departments_by_region_crosstab"
   ]
  },
  {
   "cell_type": "code",
   "execution_count": 120,
   "id": "a6357e1a-fd0e-4330-9932-ff3ca6624c00",
   "metadata": {},
   "outputs": [
    {
     "data": {
      "image/png": "[encoded data removed]",
      "text/plain": [
       "<Figure size 640x480 with 1 Axes>"
      ]
     },
     "metadata": {},
     "output_type": "display_data"
    }
   ],
   "source": [
    "# Transpose the DataFrame to have regions as the columns (if necessary)\n",
    "departments_by_region_crosstab = departments_by_region_crosstab.transpose()\n",
    "\n",
    "departments_regions_stacked=departments_by_region_crosstab.plot(kind='bar', stacked=True)\n",
    "\n",
    "plt.title('Stacked Bar Chart of Regions by Department')\n",
    "plt.xlabel('Departments')\n",
    "plt.ylabel('Counts')\n",
    "plt.legend(title='Region')\n",
    "plt.show()"
   ]
  },
  {
   "cell_type": "code",
   "execution_count": 121,
   "id": "202beaa4-8706-4462-ab07-b9e5b39bb8c1",
   "metadata": {},
   "outputs": [],
   "source": [
    "#Export \n",
    "departments_regions_stacked.figure.savefig(os.path.join(path,'04 Analysis','Visualizations','departments_by_region_stacked_bar.png'))"
   ]
  },
  {
   "cell_type": "code",
   "execution_count": 122,
   "id": "c5b8bba8-a2a5-4995-82a5-aa851be5697c",
   "metadata": {},
   "outputs": [
    {
     "name": "stderr",
     "output_type": "stream",
     "text": [
      "/var/folders/sl/t5s1mv992pz285_hqs7tzfh80000gr/T/ipykernel_81631/3121063519.py:4: FutureWarning: The provided callable <function max at 0x109433a60> is currently using SeriesGroupBy.max. In a future version of pandas, the provided callable will be used directly. To keep current behavior pass the string \"max\" instead.\n",
      "  df['pet_owner'] = df.groupby(['user_id'])['pet_owner'].transform(np.max)\n"
     ]
    }
   ],
   "source": [
    "#Creating pet department profiling variable for 'pet_owner'\n",
    "\n",
    "df['pet_owner'] = [1 if x == 'pets' else 0 for x in df['department']]\n",
    "df['pet_owner'] = df.groupby(['user_id'])['pet_owner'].transform(np.max)"
   ]
  },
  {
   "cell_type": "code",
   "execution_count": 123,
   "id": "68dcc4d6-43c4-4b88-baaf-14146158eff8",
   "metadata": {},
   "outputs": [
    {
     "data": {
      "text/plain": [
       "pet_owner\n",
       "0    28876718\n",
       "1     3528141\n",
       "Name: count, dtype: int64"
      ]
     },
     "execution_count": 123,
     "metadata": {},
     "output_type": "execute_result"
    }
   ],
   "source": [
    "#Check output\n",
    "df['pet_owner'].value_counts(dropna = False)"
   ]
  },
  {
   "cell_type": "code",
   "execution_count": 124,
   "id": "a13ee95d-c119-49ea-8bdd-7101ddec2921",
   "metadata": {},
   "outputs": [],
   "source": [
    "#compare pet_owners by region\n",
    "#create crosstab\n",
    "pet_owner_region_crosstab=pd.crosstab(df['pet_owner'], df['region'],dropna = False)"
   ]
  },
  {
   "cell_type": "code",
   "execution_count": 125,
   "id": "9d6e0655-150f-421e-a60d-57589f51c1f2",
   "metadata": {},
   "outputs": [
    {
     "data": {
      "text/html": [
       "<div>\n",
       "<style scoped>\n",
       "    .dataframe tbody tr th:only-of-type {\n",
       "        vertical-align: middle;\n",
       "    }\n",
       "\n",
       "    .dataframe tbody tr th {\n",
       "        vertical-align: top;\n",
       "    }\n",
       "\n",
       "    .dataframe thead th {\n",
       "        text-align: right;\n",
       "    }\n",
       "</style>\n",
       "<table border=\"1\" class=\"dataframe\">\n",
       "  <thead>\n",
       "    <tr style=\"text-align: right;\">\n",
       "      <th>region</th>\n",
       "      <th>Midwest</th>\n",
       "      <th>Northeast</th>\n",
       "      <th>South</th>\n",
       "      <th>West</th>\n",
       "    </tr>\n",
       "    <tr>\n",
       "      <th>pet_owner</th>\n",
       "      <th></th>\n",
       "      <th></th>\n",
       "      <th></th>\n",
       "      <th></th>\n",
       "    </tr>\n",
       "  </thead>\n",
       "  <tbody>\n",
       "    <tr>\n",
       "      <th>0</th>\n",
       "      <td>6752777</td>\n",
       "      <td>5110297</td>\n",
       "      <td>9650143</td>\n",
       "      <td>7363501</td>\n",
       "    </tr>\n",
       "    <tr>\n",
       "      <th>1</th>\n",
       "      <td>844548</td>\n",
       "      <td>612439</td>\n",
       "      <td>1141742</td>\n",
       "      <td>929412</td>\n",
       "    </tr>\n",
       "  </tbody>\n",
       "</table>\n",
       "</div>"
      ],
      "text/plain": [
       "region     Midwest  Northeast    South     West\n",
       "pet_owner                                      \n",
       "0          6752777    5110297  9650143  7363501\n",
       "1           844548     612439  1141742   929412"
      ]
     },
     "execution_count": 125,
     "metadata": {},
     "output_type": "execute_result"
    }
   ],
   "source": [
    "#print crosstab\n",
    "pet_owner_region_crosstab"
   ]
  },
  {
   "cell_type": "code",
   "execution_count": 126,
   "id": "f214d2d9-b31f-46be-9102-36664ef62e18",
   "metadata": {},
   "outputs": [
    {
     "data": {
      "image/png": "[encoded data removed]",
      "text/plain": [
       "<Figure size 640x480 with 1 Axes>"
      ]
     },
     "metadata": {},
     "output_type": "display_data"
    }
   ],
   "source": [
    "pet_owners_by_region_stacked=pet_owner_region_crosstab.plot(kind='bar', stacked=True)\n",
    "\n",
    "plt.title('Pet Owners by Region')\n",
    "plt.xlabel('Pet Owners')\n",
    "plt.ylabel('Counts')\n",
    "plt.legend(title='Region')\n",
    "plt.show()"
   ]
  },
  {
   "cell_type": "code",
   "execution_count": 127,
   "id": "27a37f50-3312-4305-a36d-7ccc354ccd72",
   "metadata": {},
   "outputs": [
    {
     "data": {
      "image/png": "[encoded data removed]",
      "text/plain": [
       "<Figure size 640x480 with 1 Axes>"
      ]
     },
     "metadata": {},
     "output_type": "display_data"
    }
   ],
   "source": [
    "#Updating labels in chart\n",
    "pet_owner_region_crosstab.rename(index={0: 'No Pets', 1: 'Has Pets'}, inplace=True)\n",
    "\n",
    "# Plotting the stacked bar chart\n",
    "pet_owners_by_region_stacked = pet_owner_region_crosstab.plot(kind='bar', stacked=True)\n",
    "\n",
    "# Adding title and labels\n",
    "plt.title('Pet Owners by Region')\n",
    "plt.xlabel('Pet Owners')\n",
    "plt.ylabel('Counts')\n",
    "plt.legend(title='Region')\n",
    "\n",
    "# Display the plot\n",
    "plt.show()"
   ]
  },
  {
   "cell_type": "code",
   "execution_count": 128,
   "id": "65fa1f4a-0488-49fc-811a-0e6cef5c5524",
   "metadata": {},
   "outputs": [
    {
     "data": {
      "text/plain": [
       "<matplotlib.legend.Legend at 0x17ec958d0>"
      ]
     },
     "execution_count": 128,
     "metadata": {},
     "output_type": "execute_result"
    },
    {
     "data": {
      "image/png": "[encoded data removed]",
      "text/plain": [
       "<Figure size 640x480 with 1 Axes>"
      ]
     },
     "metadata": {},
     "output_type": "display_data"
    }
   ],
   "source": [
    "#Switching variables on x and y axis for better readability\n",
    "pet_owner_region_crosstab = pet_owner_region_crosstab.transpose()\n",
    "\n",
    "# Rename the columns to 'No Pets' and 'Has Pets'\n",
    "pet_owner_region_crosstab.columns = ['No Pets', 'Has Pets']\n",
    "\n",
    "# Plotting the stacked bar chart with regions on the X-axis\n",
    "pet_owner_by_region_stacked = pet_owner_region_crosstab.plot(kind='bar', stacked=True)\n",
    "\n",
    "# Adding title and labels\n",
    "plt.title('Pet Owners by Region')\n",
    "plt.xlabel('Regions')\n",
    "plt.ylabel('Counts')\n",
    "plt.legend(title='Pet Ownership')"
   ]
  },
  {
   "cell_type": "code",
   "execution_count": 129,
   "id": "1b95891a-c1f5-484a-8376-122141da5ae5",
   "metadata": {},
   "outputs": [],
   "source": [
    "#Export \n",
    "pet_owner_by_region_stacked.figure.savefig(os.path.join(path,'04 Analysis','Visualizations','pet_owner_by_region_stacked.png'))"
   ]
  },
  {
   "cell_type": "code",
   "execution_count": 130,
   "id": "05f6c0cb-fc90-47e2-aecb-babfb1e5b3c0",
   "metadata": {},
   "outputs": [
    {
     "name": "stderr",
     "output_type": "stream",
     "text": [
      "/var/folders/sl/t5s1mv992pz285_hqs7tzfh80000gr/T/ipykernel_81631/1540395625.py:4: FutureWarning: The provided callable <function max at 0x109433a60> is currently using SeriesGroupBy.max. In a future version of pandas, the provided callable will be used directly. To keep current behavior pass the string \"max\" instead.\n",
      "  df['parent_of_baby'] = df.groupby(['user_id'])['parent_of_baby'].transform(np.max)\n"
     ]
    }
   ],
   "source": [
    "#Creating babies department profiling variable for 'parent_of_baby'\n",
    "\n",
    "df['parent_of_baby'] = [1 if x == 'babies' else 0 for x in df['department']]\n",
    "df['parent_of_baby'] = df.groupby(['user_id'])['parent_of_baby'].transform(np.max)"
   ]
  },
  {
   "cell_type": "code",
   "execution_count": 131,
   "id": "14de86a2-3453-4046-a8f9-14d5b3647393",
   "metadata": {},
   "outputs": [
    {
     "data": {
      "text/plain": [
       "parent_of_baby\n",
       "0    22431550\n",
       "1     9973309\n",
       "Name: count, dtype: int64"
      ]
     },
     "execution_count": 131,
     "metadata": {},
     "output_type": "execute_result"
    }
   ],
   "source": [
    "#check output\n",
    "df['parent_of_baby'].value_counts(dropna=False)"
   ]
  },
  {
   "cell_type": "code",
   "execution_count": 132,
   "id": "f0a6adc3-7d77-42a9-b30d-a5512c692da2",
   "metadata": {},
   "outputs": [],
   "source": [
    "#compare parents by region\n",
    "#create crosstab\n",
    "parents_by_region_crosstab=pd.crosstab(df['region'], df['parent_of_baby'],dropna = False)"
   ]
  },
  {
   "cell_type": "code",
   "execution_count": 133,
   "id": "255066fe-03d6-486e-aa67-52e2401daf39",
   "metadata": {},
   "outputs": [
    {
     "data": {
      "text/plain": [
       "<matplotlib.legend.Legend at 0x31b50c890>"
      ]
     },
     "execution_count": 133,
     "metadata": {},
     "output_type": "execute_result"
    },
    {
     "data": {
      "image/png": "[encoded data removed]",
      "text/plain": [
       "<Figure size 640x480 with 1 Axes>"
      ]
     },
     "metadata": {},
     "output_type": "display_data"
    }
   ],
   "source": [
    "#Create bar chart\n",
    "parents_by_region_crosstab.columns = ['No Baby', 'Has Baby']\n",
    "\n",
    "# Plotting the stacked bar chart with regions on the X-axis\n",
    "parent_of_baby_region_bar = parents_by_region_crosstab.plot(kind='bar', stacked=True)\n",
    "\n",
    "# Adding title and labels\n",
    "plt.title('Parents with Babies by Region')\n",
    "plt.xlabel('Regions')\n",
    "plt.ylabel('Counts')\n",
    "plt.legend(title='Baby Status')"
   ]
  },
  {
   "cell_type": "code",
   "execution_count": 134,
   "id": "772b45f6-e07c-4a66-aa33-bd1c843b8a14",
   "metadata": {},
   "outputs": [],
   "source": [
    "#Export \n",
    "parent_of_baby_region_bar.figure.savefig(os.path.join(path,'04 Analysis','Visualizations','parents_with_baby_by_region_stacked.png'))"
   ]
  },
  {
   "cell_type": "code",
   "execution_count": 135,
   "id": "395c84d4-dfed-4359-9a78-469aba8fb4a8",
   "metadata": {},
   "outputs": [
    {
     "data": {
      "text/plain": [
       "marital_status\n",
       "married                             22756753\n",
       "single                               5325691\n",
       "divorced/widowed                     2771812\n",
       "living with parents and siblings     1550603\n",
       "Name: count, dtype: int64"
      ]
     },
     "execution_count": 135,
     "metadata": {},
     "output_type": "execute_result"
    }
   ],
   "source": [
    "# Get counts for each unique item in the 'region' column\n",
    "df['marital_status'].value_counts()"
   ]
  },
  {
   "cell_type": "code",
   "execution_count": 136,
   "id": "3cb47300-5940-4e27-ab0e-6a107812e5e3",
   "metadata": {},
   "outputs": [],
   "source": [
    "#compare marital status by region\n",
    "#create crosstab\n",
    "marital_status_by_region_crosstab=pd.crosstab(df['region'], df['marital_status'],dropna = False)"
   ]
  },
  {
   "cell_type": "code",
   "execution_count": 137,
   "id": "166862db-2eab-4b31-9c66-3ba65e8c851e",
   "metadata": {},
   "outputs": [
    {
     "data": {
      "text/html": [
       "<div>\n",
       "<style scoped>\n",
       "    .dataframe tbody tr th:only-of-type {\n",
       "        vertical-align: middle;\n",
       "    }\n",
       "\n",
       "    .dataframe tbody tr th {\n",
       "        vertical-align: top;\n",
       "    }\n",
       "\n",
       "    .dataframe thead th {\n",
       "        text-align: right;\n",
       "    }\n",
       "</style>\n",
       "<table border=\"1\" class=\"dataframe\">\n",
       "  <thead>\n",
       "    <tr style=\"text-align: right;\">\n",
       "      <th>marital_status</th>\n",
       "      <th>divorced/widowed</th>\n",
       "      <th>living with parents and siblings</th>\n",
       "      <th>married</th>\n",
       "      <th>single</th>\n",
       "    </tr>\n",
       "    <tr>\n",
       "      <th>region</th>\n",
       "      <th></th>\n",
       "      <th></th>\n",
       "      <th></th>\n",
       "      <th></th>\n",
       "    </tr>\n",
       "  </thead>\n",
       "  <tbody>\n",
       "    <tr>\n",
       "      <th>Midwest</th>\n",
       "      <td>646401</td>\n",
       "      <td>366517</td>\n",
       "      <td>5325608</td>\n",
       "      <td>1258799</td>\n",
       "    </tr>\n",
       "    <tr>\n",
       "      <th>Northeast</th>\n",
       "      <td>501059</td>\n",
       "      <td>268114</td>\n",
       "      <td>4036321</td>\n",
       "      <td>917242</td>\n",
       "    </tr>\n",
       "    <tr>\n",
       "      <th>South</th>\n",
       "      <td>920849</td>\n",
       "      <td>529584</td>\n",
       "      <td>7560642</td>\n",
       "      <td>1780810</td>\n",
       "    </tr>\n",
       "    <tr>\n",
       "      <th>West</th>\n",
       "      <td>703503</td>\n",
       "      <td>386388</td>\n",
       "      <td>5834182</td>\n",
       "      <td>1368840</td>\n",
       "    </tr>\n",
       "  </tbody>\n",
       "</table>\n",
       "</div>"
      ],
      "text/plain": [
       "marital_status  divorced/widowed  living with parents and siblings  married  \\\n",
       "region                                                                        \n",
       "Midwest                   646401                            366517  5325608   \n",
       "Northeast                 501059                            268114  4036321   \n",
       "South                     920849                            529584  7560642   \n",
       "West                      703503                            386388  5834182   \n",
       "\n",
       "marital_status   single  \n",
       "region                   \n",
       "Midwest         1258799  \n",
       "Northeast        917242  \n",
       "South           1780810  \n",
       "West            1368840  "
      ]
     },
     "execution_count": 137,
     "metadata": {},
     "output_type": "execute_result"
    }
   ],
   "source": [
    "marital_status_by_region_crosstab"
   ]
  },
  {
   "cell_type": "code",
   "execution_count": 138,
   "id": "cdd1a7d7-472b-4255-8b3a-8a24d8c10004",
   "metadata": {},
   "outputs": [
    {
     "data": {
      "text/plain": [
       "<matplotlib.legend.Legend at 0x17ecefed0>"
      ]
     },
     "execution_count": 138,
     "metadata": {},
     "output_type": "execute_result"
    },
    {
     "data": {
      "image/png": "[encoded data removed]",
      "text/plain": [
       "<Figure size 640x480 with 1 Axes>"
      ]
     },
     "metadata": {},
     "output_type": "display_data"
    }
   ],
   "source": [
    "#Plotting the bar chart\n",
    "marital_status_region_bar = marital_status_by_region_crosstab.plot(kind='bar')\n",
    "\n",
    "#Adding title and labels\n",
    "plt.title('Marital Status by Region')\n",
    "plt.xlabel('Region')\n",
    "plt.ylabel('Counts')\n",
    "plt.legend(title='Marital Status')"
   ]
  },
  {
   "cell_type": "code",
   "execution_count": 139,
   "id": "19fb6948-2c8e-4e07-961c-9e42d39cacee",
   "metadata": {},
   "outputs": [],
   "source": [
    "#Export \n",
    "marital_status_region_bar.figure.savefig(os.path.join(path,'04 Analysis','Visualizations','marital_status_by_region_bar.png'))"
   ]
  },
  {
   "cell_type": "code",
   "execution_count": 140,
   "id": "545ccca0-a3d0-4174-adeb-5918c9b36e6b",
   "metadata": {},
   "outputs": [],
   "source": [
    "#Customer Profiling based on specific departments\n",
    "\n",
    "def is_purchasing_certain_goods(department):\n",
    "    certain_goods_departments = ['produce', 'dairy_eggs', 'snacks', 'beverages', 'frozen', 'babies', 'pets', 'household', 'personal_care']\n",
    "    return 'Purchases' if department in certain_goods_departments else 'No Purchases'\n",
    "\n",
    "def determine_dependents_group(dependants_status):\n",
    "    return 'Single Parent' if dependants_status >= 1 else 'No Dependents'\n",
    "\n",
    "def determine_shopping_time(order_day_of_week, order_hour_of_day):\n",
    "    if order_day_of_week < 5 and (order_hour_of_day >= 9 and order_hour_of_day < 17):\n",
    "        return 'Weekday Shopper'\n",
    "    else:\n",
    "        return 'Weekend/Evening Shopper'"
   ]
  },
  {
   "cell_type": "code",
   "execution_count": 141,
   "id": "f8a782bf-ec6e-4ae8-8f65-ba25e6c4f951",
   "metadata": {},
   "outputs": [
    {
     "name": "stdout",
     "output_type": "stream",
     "text": [
      "   user_id                                            profile\n",
      "0    26711  Middle Age, High Income, Purchases, has depend...\n",
      "1    26711  Middle Age, High Income, Purchases, has depend...\n",
      "2    26711  Middle Age, High Income, Purchases, has depend...\n",
      "3    26711  Middle Age, High Income, Purchases, has depend...\n",
      "4    26711  Middle Age, High Income, Purchases, has depend...\n"
     ]
    }
   ],
   "source": [
    "# Apply functions to create new columns\n",
    "\n",
    "df['goods_category'] = df['department'].apply(is_purchasing_certain_goods)\n",
    "\n",
    "df['shopping_time_category'] = df.apply(lambda row: determine_shopping_time(row['order_day_of_week'], row['order_hour_of_day']), axis=1)\n",
    "\n",
    "# Combine into a profiling variable\n",
    "df['profile'] = df['age_group'] + ', ' + df['income_level'] + ', ' + df['goods_category'] + ', ' + df['dependants_status'] + ', ' + df['shopping_time_category']\n",
    "\n",
    "# Print the first few rows to see the profile\n",
    "print(df[['user_id', 'profile']].head())"
   ]
  },
  {
   "cell_type": "code",
   "execution_count": 261,
   "id": "f816db19-7280-46b0-afce-0f124a03846b",
   "metadata": {},
   "outputs": [
    {
     "name": "stdout",
     "output_type": "stream",
     "text": [
      "user_id  profile                                                                         \n",
      "1        Middle Age, Low Income, No Purchases, has dependants, Weekday Shopper               1\n",
      "137468   Middle Age, Low Income, Purchases, has dependants, Weekday Shopper                  1\n",
      "137465   Middle Age, Middle Income, Purchases, no dependants, Weekend/Evening Shopper        1\n",
      "137466   Senior, Middle Income, No Purchases, has dependants, Weekday Shopper                1\n",
      "         Senior, Middle Income, No Purchases, has dependants, Weekend/Evening Shopper        1\n",
      "                                                                                            ..\n",
      "68709    Middle Age, Middle Income, No Purchases, has dependants, Weekend/Evening Shopper    1\n",
      "         Middle Age, Middle Income, Purchases, has dependants, Weekday Shopper               1\n",
      "         Middle Age, Middle Income, Purchases, has dependants, Weekend/Evening Shopper       1\n",
      "68710    Senior, Middle Income, No Purchases, no dependants, Weekday Shopper                 1\n",
      "206209   Senior, High Income, Purchases, has dependants, Weekend/Evening Shopper             1\n",
      "Name: count, Length: 767987, dtype: int64\n"
     ]
    }
   ],
   "source": [
    "#Count unique combinations of user_id and profile\n",
    "unique_combinations = df[['user_id', 'profile']].drop_duplicates().value_counts()\n",
    "print(unique_combinations)"
   ]
  },
  {
   "cell_type": "code",
   "execution_count": 269,
   "id": "62d9559a-182d-415d-b75a-1db1fcb550a3",
   "metadata": {},
   "outputs": [
    {
     "name": "stdout",
     "output_type": "stream",
     "text": [
      "region                                              Midwest  Northeast  \\\n",
      "profile                                                                  \n",
      "Middle Age, High Income, No Purchases, has depe...   139267     104147   \n",
      "Middle Age, High Income, No Purchases, has depe...   157521     115763   \n",
      "Middle Age, High Income, No Purchases, no depen...    47732      33014   \n",
      "Middle Age, High Income, No Purchases, no depen...    54095      35870   \n",
      "Middle Age, High Income, Purchases, has dependa...   177721     132946   \n",
      "...                                                     ...        ...   \n",
      "Young Adult, Middle Income, No Purchases, no de...    52254      36804   \n",
      "Young Adult, Middle Income, Purchases, has depe...   173161     138499   \n",
      "Young Adult, Middle Income, Purchases, has depe...   195371     152340   \n",
      "Young Adult, Middle Income, Purchases, no depen...    57463      44411   \n",
      "Young Adult, Middle Income, Purchases, no depen...    67208      48416   \n",
      "\n",
      "region                                               South    West  \n",
      "profile                                                             \n",
      "Middle Age, High Income, No Purchases, has depe...  187012  151852  \n",
      "Middle Age, High Income, No Purchases, has depe...  207517  166806  \n",
      "Middle Age, High Income, No Purchases, no depen...   65582   53140  \n",
      "Middle Age, High Income, No Purchases, no depen...   75592   56747  \n",
      "Middle Age, High Income, Purchases, has dependa...  238983  191388  \n",
      "...                                                    ...     ...  \n",
      "Young Adult, Middle Income, No Purchases, no de...   73617   51297  \n",
      "Young Adult, Middle Income, Purchases, has depe...  246689  187441  \n",
      "Young Adult, Middle Income, Purchases, has depe...  277499  210985  \n",
      "Young Adult, Middle Income, Purchases, no depen...   87745   61093  \n",
      "Young Adult, Middle Income, Purchases, no depen...   96339   67155  \n",
      "\n",
      "[72 rows x 4 columns]\n"
     ]
    }
   ],
   "source": [
    "#Create a crosstab of profiles and regions\n",
    "profile_region_crosstab = pd.crosstab(df['profile'], df['region'],dropna=False)\n",
    "\n",
    "#Print the crosstab\n",
    "print(profile_region_crosstab)"
   ]
  },
  {
   "cell_type": "markdown",
   "id": "2ab321a2-8b07-4517-a20f-847dcdd47903",
   "metadata": {},
   "source": [
    "### 12. Export Dataset"
   ]
  },
  {
   "cell_type": "code",
   "execution_count": 290,
   "id": "1511307c-1aba-44db-a5dd-9940e65360cb",
   "metadata": {},
   "outputs": [],
   "source": [
    "df.to_pickle(os.path.join(path, '02 Data', 'IC24 Prepared Data', 'instacart_full_data.pkl'))"
   ]
  },
  {
   "cell_type": "code",
   "execution_count": null,
   "id": "b8a51ee2-958e-4f2d-9059-34c3d7c290fb",
   "metadata": {},
   "outputs": [],
   "source": []
  }
 ],
 "metadata": {
  "kernelspec": {
   "display_name": "Python 3 (ipykernel)",
   "language": "python",
   "name": "python3"
  },
  "language_info": {
   "codemirror_mode": {
    "name": "ipython",
    "version": 3
   },
   "file_extension": ".py",
   "mimetype": "text/x-python",
   "name": "python",
   "nbconvert_exporter": "python",
   "pygments_lexer": "ipython3",
   "version": "3.11.7"
  }
 },
 "nbformat": 4,
 "nbformat_minor": 5
}
