{
 "cells": [
  {
   "cell_type": "markdown",
   "id": "ca577c22-6f0e-48d8-a08d-09defdb91bda",
   "metadata": {},
   "source": [
    "#Importing Libraries"
   ]
  },
  {
   "cell_type": "code",
   "execution_count": 3,
   "id": "726fed69-5cbb-483c-9b9f-de87375bc4a0",
   "metadata": {},
   "outputs": [],
   "source": [
    "#importing libraries\n",
    "import pandas as pd \n",
    "import numpy as np\n",
    "import os"
   ]
  },
  {
   "cell_type": "markdown",
   "id": "c4171816-0900-426f-b16c-13beb24bbec7",
   "metadata": {},
   "source": [
    "#Working with Python Data Types"
   ]
  },
  {
   "cell_type": "code",
   "execution_count": 6,
   "id": "bb3016c2-ba7a-46ec-bf28-2ca0b02e79e2",
   "metadata": {},
   "outputs": [],
   "source": [
    "#Code 3 different ways to reach 100\n",
    "x = 50"
   ]
  },
  {
   "cell_type": "code",
   "execution_count": 8,
   "id": "c2d290fe-6849-4cea-ac7f-24bb062d1bd5",
   "metadata": {},
   "outputs": [
    {
     "data": {
      "text/plain": [
       "100"
      ]
     },
     "execution_count": 8,
     "metadata": {},
     "output_type": "execute_result"
    }
   ],
   "source": [
    "x + x "
   ]
  },
  {
   "cell_type": "code",
   "execution_count": 10,
   "id": "9955a6ef-74fc-4265-a1a0-0f4dbad5e147",
   "metadata": {},
   "outputs": [],
   "source": [
    "#Code 3 different ways to reach 100\n",
    "y = 25"
   ]
  },
  {
   "cell_type": "code",
   "execution_count": 12,
   "id": "c2c9cd7d-814a-4d90-9538-58143a19cfc7",
   "metadata": {},
   "outputs": [
    {
     "data": {
      "text/plain": [
       "100"
      ]
     },
     "execution_count": 12,
     "metadata": {},
     "output_type": "execute_result"
    }
   ],
   "source": [
    "x + y + y"
   ]
  },
  {
   "cell_type": "code",
   "execution_count": 14,
   "id": "9971ec6c-c066-4c40-bd96-d1d34722ef1d",
   "metadata": {},
   "outputs": [],
   "source": [
    "#Code 3 different ways to reach 100\n",
    "x = 99"
   ]
  },
  {
   "cell_type": "code",
   "execution_count": 16,
   "id": "798b6283-0855-45ee-93d1-d891879dd6f9",
   "metadata": {},
   "outputs": [],
   "source": [
    "z = 1"
   ]
  },
  {
   "cell_type": "code",
   "execution_count": 18,
   "id": "79b1e570-fdab-4957-8567-87bbf8626e49",
   "metadata": {},
   "outputs": [
    {
     "data": {
      "text/plain": [
       "100"
      ]
     },
     "execution_count": 18,
     "metadata": {},
     "output_type": "execute_result"
    }
   ],
   "source": [
    "x + z"
   ]
  },
  {
   "cell_type": "markdown",
   "id": "47ab8fc8-721d-4307-a568-a1a65dabb32d",
   "metadata": {},
   "source": [
    "#Code 2 floating-point variables and divide them by each other"
   ]
  },
  {
   "cell_type": "code",
   "execution_count": 21,
   "id": "bce6cde5-c3fb-4280-9752-683c9a96f7da",
   "metadata": {},
   "outputs": [],
   "source": [
    "#code 2 floating-point variables and divide them by each other\n",
    "x = 100.0\n",
    "y = 0.5\n"
   ]
  },
  {
   "cell_type": "code",
   "execution_count": 23,
   "id": "d68a93ff-4773-433c-b4c6-8fa8829006aa",
   "metadata": {},
   "outputs": [
    {
     "data": {
      "text/plain": [
       "200.0"
      ]
     },
     "execution_count": 23,
     "metadata": {},
     "output_type": "execute_result"
    }
   ],
   "source": [
    "x/y"
   ]
  },
  {
   "cell_type": "markdown",
   "id": "899ffa9b-cd1c-494e-9097-b062d0e459ec",
   "metadata": {},
   "source": [
    "#Construct a short word made of separate strings"
   ]
  },
  {
   "cell_type": "code",
   "execution_count": 26,
   "id": "9bd3755d-2faf-40a0-ade6-fb6cf01561aa",
   "metadata": {},
   "outputs": [],
   "source": [
    "#construct a short word\n",
    "x = 'app'\n",
    "y = 'le'"
   ]
  },
  {
   "cell_type": "code",
   "execution_count": 28,
   "id": "398f4e02-e56c-4c66-83bc-9d9ecc39f379",
   "metadata": {},
   "outputs": [
    {
     "data": {
      "text/plain": [
       "'apple'"
      ]
     },
     "execution_count": 28,
     "metadata": {},
     "output_type": "execute_result"
    }
   ],
   "source": [
    "x + y"
   ]
  },
  {
   "cell_type": "markdown",
   "id": "274c2531-382a-40ba-8fd2-db02193b82e2",
   "metadata": {},
   "source": [
    "#Construct 2 short sentences of separate strings"
   ]
  },
  {
   "cell_type": "code",
   "execution_count": 31,
   "id": "5934226e-61d0-400f-bb9e-a65a4bd10c6b",
   "metadata": {},
   "outputs": [],
   "source": [
    "#Construct 2 short sentences of separate strings\n",
    "x = 'Coding is '\n",
    "y = 'really fun! '\n",
    "z = 'Do you agree?'"
   ]
  },
  {
   "cell_type": "code",
   "execution_count": 33,
   "id": "a12c239b-51c7-4a80-bdb9-035160a54e65",
   "metadata": {},
   "outputs": [
    {
     "data": {
      "text/plain": [
       "'Coding is really fun! Do you agree?'"
      ]
     },
     "execution_count": 33,
     "metadata": {},
     "output_type": "execute_result"
    }
   ],
   "source": [
    "x + y + z"
   ]
  },
  {
   "cell_type": "code",
   "execution_count": null,
   "id": "cc113e5e-4d5c-4ed4-ba29-e499bc887aa6",
   "metadata": {},
   "outputs": [],
   "source": []
  }
 ],
 "metadata": {
  "kernelspec": {
   "display_name": "Python 3 (ipykernel)",
   "language": "python",
   "name": "python3"
  },
  "language_info": {
   "codemirror_mode": {
    "name": "ipython",
    "version": 3
   },
   "file_extension": ".py",
   "mimetype": "text/x-python",
   "name": "python",
   "nbconvert_exporter": "python",
   "pygments_lexer": "ipython3",
   "version": "3.11.7"
  }
 },
 "nbformat": 4,
 "nbformat_minor": 5
}
